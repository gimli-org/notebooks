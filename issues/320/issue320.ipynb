{
 "cells": [
  {
   "cell_type": "code",
   "execution_count": 1,
   "metadata": {},
   "outputs": [],
   "source": [
    "import pygimli as pg\n",
    "from pygimli.physics import ert  # the module\n",
    "import pygimli.meshtools as mt"
   ]
  },
  {
   "cell_type": "code",
   "execution_count": 2,
   "metadata": {},
   "outputs": [],
   "source": [
    "data = ert.load(\"simple.dat\")\n",
    "ert1 = ert.ERTManager(data)\n",
    "world2 = mt.createWorld(start=[-30, 0], end=[30, -20], marker=2, worldMarker=True)\n",
    "for pos in data.sensorPositions():\n",
    "    world2.createNode(pos)"
   ]
  },
  {
   "cell_type": "code",
   "execution_count": 3,
   "metadata": {},
   "outputs": [
    {
     "name": "stderr",
     "output_type": "stream",
     "text": [
      "05/08/21 - 14:22:46 - pyGIMLi - \u001b[0;32;49mINFO\u001b[0m - Found 1 regions.\n",
      "05/08/21 - 14:22:46 - pyGIMLi - \u001b[0;32;49mINFO\u001b[0m - Found 1 regions.\n",
      "05/08/21 - 14:22:46 - pyGIMLi - \u001b[0;32;49mINFO\u001b[0m - Creating forward mesh from region infos.\n",
      "05/08/21 - 14:22:46 - pyGIMLi - \u001b[0;32;49mINFO\u001b[0m - Creating refined mesh (H2) to solve forward task.\n"
     ]
    },
    {
     "data": {
      "image/png": "[encoded data removed]",
      "text/plain": [
       "<Figure size 432x288 with 2 Axes>"
      ]
     },
     "metadata": {
      "needs_background": "light"
     },
     "output_type": "display_data"
    }
   ],
   "source": [
    "mesh = mt.createMesh(world2, area=.2, quality=33, marker=2)\n",
    "ert1.setMesh(mesh)\n",
    "rhomap = [[2, 100]]\n",
    "rhomodel = pg.solver.parseArgToArray(rhomap, mesh.cellCount(), mesh)\n",
    "fop = ert.ERTModelling()\n",
    "fop.setData(data)\n",
    "fop.setMesh(mesh)\n",
    "dr = fop.response(rhomodel)\n",
    "ert.showData(data, vals=dr)\n",
    "fop.createJacobian(rhomodel)\n",
    "J = pg.utils.gmat2numpy(fop.jacobian())"
   ]
  },
  {
   "cell_type": "code",
   "execution_count": 4,
   "metadata": {},
   "outputs": [
    {
     "data": {
      "text/plain": [
       "(<matplotlib.axes._subplots.AxesSubplot at 0x23159679d90>,\n",
       " <matplotlib.colorbar.Colorbar at 0x2316186be50>)"
      ]
     },
     "execution_count": 4,
     "metadata": {},
     "output_type": "execute_result"
    },
    {
     "data": {
      "image/png": "[encoded data removed]",
      "text/plain": [
       "<Figure size 432x288 with 2 Axes>"
      ]
     },
     "metadata": {
      "needs_background": "light"
     },
     "output_type": "display_data"
    }
   ],
   "source": [
    "pg.show(fop.paraDomain, J[0,:], cMin=-0.01, cMax=0.01, cMap=\"bwr\")"
   ]
  },
  {
   "cell_type": "code",
   "execution_count": null,
   "metadata": {},
   "outputs": [
    {
     "name": "stdout",
     "output_type": "stream",
     "text": [
      "Mesh: Nodes: 5321 Cells: 10358 Boundaries: 15678\n",
      "Mesh: Nodes: 5967 Cells: 11808 Boundaries: 17774\n"
     ]
    },
    {
     "data": {
      "text/plain": [
       "(<matplotlib.axes._subplots.AxesSubplot at 0x23159730100>,\n",
       " <matplotlib.colorbar.Colorbar at 0x231597935e0>)"
      ]
     },
     "execution_count": 5,
     "metadata": {},
     "output_type": "execute_result"
    }
   ],
   "source": [
    "grid = pg.meshtools.appendTriangleBoundary(mesh, marker=1,\n",
    "                                           xbound=250, ybound=250)\n",
    "print(mesh)\n",
    "print(grid)\n",
    "pg.show(grid, markers=True, showMesh=True)"
   ]
  },
  {
   "cell_type": "code",
   "execution_count": null,
   "metadata": {},
   "outputs": [],
   "source": [
    "ert2 = ert.ERTManager(data)\n",
    "ert2.setMesh(grid)\n",
    "rhomap2 = [[1, 100],[2, 100]]\n",
    "rhomodel2 = pg.solver.parseArgToArray(rhomap2, grid.cellCount(), grid)\n",
    "fop = ert.ERTModelling()\n",
    "fop.setData(data)\n",
    "fop.setMesh(grid)\n",
    "fop.region(1).setBackground(True)\n",
    "dr = fop.response(rhomodel)\n",
    "ert.showERTData(data, vals=dr)\n",
    "fop.createJacobian(rhomodel)\n",
    "J2 = pg.utils.gmat2numpy(fop.jacobian())"
   ]
  },
  {
   "cell_type": "code",
   "execution_count": null,
   "metadata": {},
   "outputs": [],
   "source": [
    "pg.show(fop.paraDomain, J2[0,:], cMin=-0.01, cMax=0.01, cMap=\"bwr\")"
   ]
  }
 ],
 "metadata": {
  "hide_input": false,
  "kernelspec": {
   "display_name": "Python 3",
   "language": "python",
   "name": "python3"
  },
  "language_info": {
   "codemirror_mode": {
    "name": "ipython",
    "version": 3
   },
   "file_extension": ".py",
   "mimetype": "text/x-python",
   "name": "python",
   "nbconvert_exporter": "python",
   "pygments_lexer": "ipython3",
   "version": "3.8.3"
  },
  "toc": {
   "base_numbering": 1,
   "nav_menu": {},
   "number_sections": true,
   "sideBar": true,
   "skip_h1_title": false,
   "title_cell": "Table of Contents",
   "title_sidebar": "Contents",
   "toc_cell": false,
   "toc_position": {},
   "toc_section_display": true,
   "toc_window_display": false
  },
  "varInspector": {
   "cols": {
    "lenName": 16,
    "lenType": 16,
    "lenVar": 40
   },
   "kernels_config": {
    "python": {
     "delete_cmd_postfix": "",
     "delete_cmd_prefix": "del ",
     "library": "var_list.py",
     "varRefreshCmd": "print(var_dic_list())"
    },
    "r": {
     "delete_cmd_postfix": ") ",
     "delete_cmd_prefix": "rm(",
     "library": "var_list.r",
     "varRefreshCmd": "cat(var_dic_list()) "
    }
   },
   "types_to_exclude": [
    "module",
    "function",
    "builtin_function_or_method",
    "instance",
    "_Feature"
   ],
   "window_display": false
  }
 },
 "nbformat": 4,
 "nbformat_minor": 4
}
