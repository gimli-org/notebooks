{
 "cells": [
  {
   "cell_type": "code",
   "execution_count": 41,
   "metadata": {},
   "outputs": [],
   "source": [
    "import numpy as np\n",
    "import matplotlib.pyplot as plt\n",
    "import pygimli as pg\n",
    "from pygimli.physics import ves"
   ]
  },
  {
   "cell_type": "code",
   "execution_count": 42,
   "metadata": {},
   "outputs": [
    {
     "name": "stderr",
     "output_type": "stream",
     "text": [
      "20/08/24 - 19:24:04 - pyGIMLi - \u001b[0;32;49mINFO\u001b[0m - Found 1 regions.\n"
     ]
    }
   ],
   "source": [
    "ab2 = np.logspace(0.5, 2.5, 21)\n",
    "fopBlock = ves.VESModelling(ab2=ab2, nLayers=3)\n",
    "synth = [10, 10, 100, 300, 30]\n",
    "data = fopBlock(synth)\n",
    "thk = np.logspace(0.1, 1, 15)\n",
    "fop = ves.VESRhoModelling(ab2=ab2, thk=thk)"
   ]
  },
  {
   "cell_type": "code",
   "execution_count": 43,
   "metadata": {},
   "outputs": [
    {
     "name": "stderr",
     "output_type": "stream",
     "text": [
      "20/08/24 - 19:24:04 - pyGIMLi - \u001b[0;32;49mINFO\u001b[0m - Starting inversion.\n"
     ]
    },
    {
     "name": "stdout",
     "output_type": "stream",
     "text": [
      "fop: <pygimli.physics.ves.vesModelling.VESRhoModelling object at 0x000002C52B7C3810>\n",
      "Data transformation: Logarithmic transform\n",
      "Model transformation: Logarithmic transform\n",
      "min/max (data): 31.1/126\n",
      "min/max (error): 3%/3%\n",
      "min/max (start model): 100/100\n",
      "--------------------------------------------------------------------------------\n",
      "inv.iter 0 ... chi² =  310.25\n",
      "--------------------------------------------------------------------------------\n",
      "inv.iter 1 ... dM:  16 [0.018890893317554405, -0.013689985907177415, -0.06498402680382097, 0.00916696292237185, 0.2289768216226028, 0.5062942734752116, 0.7200932366848737, 0.7718229704365064, 0.6148919240643438, 0.2626754610962938, -0.2199187059107753, -0.7359279257646378, -1.1808824219434837, -1.466345334744469, -1.5372361818980544, -1.3796535312649176]\n",
      "tau:  0.9505\n",
      "chi² =    4.05 (dPhi = 98.34%) lam: 20.0\n",
      "--------------------------------------------------------------------------------\n",
      "inv.iter 2 ... dM:  16 [0.01581496088436286, -0.031246178041599293, -0.016216614653559128, 0.06453606496329096, 0.11460177524599013, 0.07441194458796821, -0.044137938739201854, -0.18593013272709538, -0.2824530602070059, -0.28008053341600125, -0.17030801000720974, 0.003720763102030032, 0.17262119189997624, 0.27417762958988473, 0.2709723489838061, 0.1494079523525928]\n",
      "tau:  0.9505\n",
      "chi² =    0.41 (dPhi = 78.44%) lam: 20.0\n",
      "\n",
      "\n",
      "################################################################################\n",
      "#                  Abort criterion reached: chi² <= 1 (0.41)                   #\n",
      "################################################################################\n"
     ]
    }
   ],
   "source": [
    "from pygimli.frameworks.inversion import GaussNewtonInversion\n",
    "# startModel = [12, 12, 100, 100, 100]\n",
    "startModel = pg.Vector(len(thk)+1, 100)\n",
    "self = GaussNewtonInversion(fop=fop)\n",
    "self.dataTrans = 'log'\n",
    "self.modelTrans = 'log'\n",
    "self.fop.createConstraints()\n",
    "model1 = self.run(data, 0.03, lam=20, startModel=startModel, maxIter=5, verbose=True)"
   ]
  },
  {
   "cell_type": "code",
   "execution_count": 44,
   "metadata": {},
   "outputs": [
    {
     "name": "stdout",
     "output_type": "stream",
     "text": [
      "\n",
      "\n"
     ]
    }
   ],
   "source": [
    "from pygimli.frameworks.inversion import ClassicInversion\n",
    "inv = ClassicInversion(fop=fop)\n",
    "inv.dataVals = data\n",
    "inv.dataTrans = pg.trans.TransLog()\n",
    "inv.modelTrans = pg.trans.TransLog()\n",
    "model2 = inv.run(data, 0.03, lam=20, startModel=100, maxIter=5)"
   ]
  },
  {
   "cell_type": "code",
   "execution_count": 45,
   "metadata": {},
   "outputs": [
    {
     "name": "stderr",
     "output_type": "stream",
     "text": [
      "c:\\Guenther.T\\src\\gimli\\gimli\\pygimli\\viewer\\mpl\\modelview.py:116: UserWarning: Attempt to set non-positive ylim on a log-scaled axis will be ignored.\n",
      "  ax.set_ylim(pz[-1], pz[0])\n"
     ]
    },
    {
     "data": {
      "text/plain": [
       "<matplotlib.legend.Legend at 0x2c52b67cdc0>"
      ]
     },
     "execution_count": 45,
     "metadata": {},
     "output_type": "execute_result"
    },
    {
     "data": {
      "image/png": "[encoded data removed]",
      "text/plain": [
       "<Figure size 640x480 with 1 Axes>"
      ]
     },
     "metadata": {},
     "output_type": "display_data"
    }
   ],
   "source": [
    "fig, ax = plt.subplots()\n",
    "pg.viewer.mpl.drawModel1D(ax, model=synth, plot=\"loglog\", label=\"synth\")\n",
    "pg.viewer.mpl.drawModel1D(ax, thk, model2, label=\"old\")\n",
    "pg.viewer.mpl.drawModel1D(ax, thk, model1, label=\"new\", ls=\"--\")\n",
    "ax.legend()"
   ]
  }
 ],
 "metadata": {
  "kernelspec": {
   "display_name": "pg15",
   "language": "python",
   "name": "python3"
  },
  "language_info": {
   "codemirror_mode": {
    "name": "ipython",
    "version": 3
   },
   "file_extension": ".py",
   "mimetype": "text/x-python",
   "name": "python",
   "nbconvert_exporter": "python",
   "pygments_lexer": "ipython3",
   "version": "3.9.18"
  }
 },
 "nbformat": 4,
 "nbformat_minor": 2
}
