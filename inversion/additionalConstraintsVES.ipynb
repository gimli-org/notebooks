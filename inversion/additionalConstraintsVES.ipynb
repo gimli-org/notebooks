{
 "cells": [
  {
   "cell_type": "code",
   "execution_count": 1,
   "id": "64c31a58",
   "metadata": {},
   "outputs": [],
   "source": [
    "import numpy as np\n",
    "import pygimli as pg\n",
    "from pygimli.frameworks.lsqrinversion import LSQRInversion\n",
    "from pygimli.physics.ert import VESModelling"
   ]
  },
  {
   "cell_type": "code",
   "execution_count": 2,
   "id": "4519aede",
   "metadata": {},
   "outputs": [
    {
     "data": {
      "text/plain": [
       "[<matplotlib.lines.Line2D at 0x1dfcc968880>]"
      ]
     },
     "execution_count": 2,
     "metadata": {},
     "output_type": "execute_result"
    },
    {
     "data": {
      "image/png": "[encoded data removed]",
      "text/plain": [
       "<Figure size 432x288 with 1 Axes>"
      ]
     },
     "metadata": {
      "needs_background": "light"
     },
     "output_type": "display_data"
    }
   ],
   "source": [
    "nlay = 4  # number of layers\n",
    "lam = 200.  # (initial) regularization parameter\n",
    "errPerc = 3.  # relative error of 3 percent\n",
    "ab2 = np.logspace(-1, 2, 50)  # AB/2 distance (current electrodes)\n",
    "mn2 = ab2 / 3.  # MN/2 distance (potential electrodes)\n",
    "f = VESModelling(ab2=ab2, mn2=mn2, nLayers=nlay)\n",
    "synres = [100., 500., 20., 800.]  # synthetic resistivity\n",
    "synthk = [0.5, 3.5, 6.]  # synthetic thickness (nlay-th layer is infinite)\n",
    "rhoa = f(synthk+synres)\n",
    "rhoa = rhoa * (pg.randn(len(rhoa)) * errPerc / 100. + 1.)\n",
    "pg.plt.loglog(rhoa, ab2, \"x-\")"
   ]
  },
  {
   "cell_type": "code",
   "execution_count": 3,
   "id": "d3039c1b",
   "metadata": {},
   "outputs": [
    {
     "name": "stderr",
     "output_type": "stream",
     "text": [
      "13/12/22 - 22:18:59 - pyGIMLi - \u001b[0;32;49mINFO\u001b[0m - Starting inversion.\n",
      "13/12/22 - 22:18:59 - pyGIMLi - \u001b[0;33;49mWARNING\u001b[0m - Multiprocess jacobian currently unavailable for win build\n",
      "13/12/22 - 22:18:59 - pyGIMLi - \u001b[0;33;49mWARNING\u001b[0m - Multiprocess jacobian currently unavailable for win build\n"
     ]
    },
    {
     "name": "stdout",
     "output_type": "stream",
     "text": [
      "fop: <pygimli.physics.ert.ves.VESModelling object at 0x000001DFCBF179F0>\n",
      "Data transformation: <pygimli.core._pygimli_.RTransLog object at 0x000001DFCCC8A360>\n",
      "Model transformation (cumulative):\n",
      "\t 0 <pygimli.core._pygimli_.RTransLogLU object at 0x000001DFBB795CA0>\n",
      "\t 1 <pygimli.core._pygimli_.RTransLogLU object at 0x000001DFCBF0A7C0>\n",
      "min/max (data): 90.78/323\n",
      "min/max (error): 3%/3%\n",
      "min/max (start model): 8/139\n",
      "--------------------------------------------------------------------------------\n",
      "--------------------------------------------------------------------------------\n",
      "inv.iter 1 ... Running one inversion step!\n"
     ]
    },
    {
     "name": "stderr",
     "output_type": "stream",
     "text": [
      "13/12/22 - 22:18:59 - pyGIMLi - \u001b[0;32;49mINFO\u001b[0m - 0 55.232245913443876 1.0\n",
      "13/12/22 - 22:18:59 - pyGIMLi - \u001b[0;32;49mINFO\u001b[0m - Solution norm reached\n",
      "13/12/22 - 22:18:59 - pyGIMLi - \u001b[0;32;49mINFO\u001b[0m - 4 5.313784150373969e-13 9.620800426441758e-15\n",
      "13/12/22 - 22:18:59 - pyGIMLi - \u001b[0;32;49mINFO\u001b[0m - Maximum iteration reached\n",
      "13/12/22 - 22:18:59 - pyGIMLi - \u001b[0;32;49mINFO\u001b[0m - 4 5.313784150373969e-13 9.620800426441758e-15\n",
      "13/12/22 - 22:18:59 - pyGIMLi - \u001b[0;33;49mWARNING\u001b[0m - Multiprocess jacobian currently unavailable for win build\n",
      "13/12/22 - 22:18:59 - pyGIMLi - \u001b[0;32;49mINFO\u001b[0m - 0 42.557450451842726 1.0\n",
      "13/12/22 - 22:18:59 - pyGIMLi - \u001b[0;32;49mINFO\u001b[0m - Solution norm reached\n",
      "13/12/22 - 22:18:59 - pyGIMLi - \u001b[0;32;49mINFO\u001b[0m - 7 2.5089633036547257e-07 5.895473711456999e-09\n",
      "13/12/22 - 22:18:59 - pyGIMLi - \u001b[0;32;49mINFO\u001b[0m - Maximum iteration reached\n",
      "13/12/22 - 22:18:59 - pyGIMLi - \u001b[0;32;49mINFO\u001b[0m - 7 2.5089633036547257e-07 5.895473711456999e-09\n",
      "13/12/22 - 22:19:00 - pyGIMLi - \u001b[0;33;49mWARNING\u001b[0m - Multiprocess jacobian currently unavailable for win build\n"
     ]
    },
    {
     "name": "stdout",
     "output_type": "stream",
     "text": [
      "chi² = 181.28 (dPhi = 8.24%) lam: 1000\n",
      "--------------------------------------------------------------------------------\n",
      "inv.iter 2 ... Running one inversion step!\n",
      "chi² = 177.39 (dPhi = 2.14%) lam: 1000.0\n",
      "--------------------------------------------------------------------------------\n",
      "inv.iter 3 ... Running one inversion step!\n"
     ]
    },
    {
     "name": "stderr",
     "output_type": "stream",
     "text": [
      "13/12/22 - 22:19:00 - pyGIMLi - \u001b[0;32;49mINFO\u001b[0m - 0 39.25273590213474 1.0\n",
      "13/12/22 - 22:19:00 - pyGIMLi - \u001b[0;32;49mINFO\u001b[0m - Solution norm reached\n",
      "13/12/22 - 22:19:00 - pyGIMLi - \u001b[0;32;49mINFO\u001b[0m - 7 2.7307115728351314e-08 6.956742020845031e-10\n",
      "13/12/22 - 22:19:00 - pyGIMLi - \u001b[0;32;49mINFO\u001b[0m - Maximum iteration reached\n",
      "13/12/22 - 22:19:00 - pyGIMLi - \u001b[0;32;49mINFO\u001b[0m - 7 2.7307115728351314e-08 6.956742020845031e-10\n",
      "13/12/22 - 22:19:00 - pyGIMLi - \u001b[0;33;49mWARNING\u001b[0m - Multiprocess jacobian currently unavailable for win build\n",
      "13/12/22 - 22:19:00 - pyGIMLi - \u001b[0;32;49mINFO\u001b[0m - 0 36.09278406023396 1.0\n",
      "13/12/22 - 22:19:00 - pyGIMLi - \u001b[0;32;49mINFO\u001b[0m - Solution norm reached\n",
      "13/12/22 - 22:19:00 - pyGIMLi - \u001b[0;32;49mINFO\u001b[0m - 8 2.5267620764758427e-08 7.000740292738348e-10\n",
      "13/12/22 - 22:19:00 - pyGIMLi - \u001b[0;32;49mINFO\u001b[0m - Maximum iteration reached\n",
      "13/12/22 - 22:19:00 - pyGIMLi - \u001b[0;32;49mINFO\u001b[0m - 8 2.5267620764758427e-08 7.000740292738348e-10\n",
      "13/12/22 - 22:19:00 - pyGIMLi - \u001b[0;33;49mWARNING\u001b[0m - Multiprocess jacobian currently unavailable for win build\n"
     ]
    },
    {
     "name": "stdout",
     "output_type": "stream",
     "text": [
      "chi² = 173.85 (dPhi = 2.0%) lam: 1000.0\n",
      "--------------------------------------------------------------------------------\n",
      "inv.iter 4 ... Running one inversion step!\n",
      "chi² = 154.61 (dPhi = 11.07%) lam: 1000.0\n",
      "--------------------------------------------------------------------------------\n",
      "inv.iter 5 ... Running one inversion step!\n"
     ]
    },
    {
     "name": "stderr",
     "output_type": "stream",
     "text": [
      "13/12/22 - 22:19:00 - pyGIMLi - \u001b[0;32;49mINFO\u001b[0m - 0 24.834596893606932 1.0\n",
      "13/12/22 - 22:19:00 - pyGIMLi - \u001b[0;32;49mINFO\u001b[0m - Solution norm reached\n",
      "13/12/22 - 22:19:00 - pyGIMLi - \u001b[0;32;49mINFO\u001b[0m - 8 2.953763961240445e-09 1.1893746348670632e-10\n",
      "13/12/22 - 22:19:00 - pyGIMLi - \u001b[0;32;49mINFO\u001b[0m - Maximum iteration reached\n",
      "13/12/22 - 22:19:00 - pyGIMLi - \u001b[0;32;49mINFO\u001b[0m - 8 2.953763961240445e-09 1.1893746348670632e-10\n",
      "13/12/22 - 22:19:00 - pyGIMLi - \u001b[0;33;49mWARNING\u001b[0m - Multiprocess jacobian currently unavailable for win build\n",
      "13/12/22 - 22:19:00 - pyGIMLi - \u001b[0;32;49mINFO\u001b[0m - 0 34.33072802673129 1.0\n",
      "13/12/22 - 22:19:00 - pyGIMLi - \u001b[0;32;49mINFO\u001b[0m - Solution norm reached\n",
      "13/12/22 - 22:19:00 - pyGIMLi - \u001b[0;32;49mINFO\u001b[0m - 8 1.687127245748958e-07 4.9143357648439394e-09\n",
      "13/12/22 - 22:19:00 - pyGIMLi - \u001b[0;32;49mINFO\u001b[0m - Maximum iteration reached\n",
      "13/12/22 - 22:19:00 - pyGIMLi - \u001b[0;32;49mINFO\u001b[0m - 8 1.687127245748958e-07 4.9143357648439394e-09\n"
     ]
    },
    {
     "name": "stdout",
     "output_type": "stream",
     "text": [
      "chi² = 114.03 (dPhi = 26.25%) lam: 1000.0\n",
      "--------------------------------------------------------------------------------\n",
      "inv.iter 6 ... Running one inversion step!\n"
     ]
    },
    {
     "name": "stderr",
     "output_type": "stream",
     "text": [
      "13/12/22 - 22:19:00 - pyGIMLi - \u001b[0;33;49mWARNING\u001b[0m - Multiprocess jacobian currently unavailable for win build\n",
      "13/12/22 - 22:19:01 - pyGIMLi - \u001b[0;32;49mINFO\u001b[0m - 0 85.59033506631235 1.0\n",
      "13/12/22 - 22:19:01 - pyGIMLi - \u001b[0;32;49mINFO\u001b[0m - Solution norm reached\n",
      "13/12/22 - 22:19:01 - pyGIMLi - \u001b[0;32;49mINFO\u001b[0m - 8 1.4208364672584529e-08 1.660043118370362e-10\n",
      "13/12/22 - 22:19:01 - pyGIMLi - \u001b[0;32;49mINFO\u001b[0m - Maximum iteration reached\n",
      "13/12/22 - 22:19:01 - pyGIMLi - \u001b[0;32;49mINFO\u001b[0m - 8 1.4208364672584529e-08 1.660043118370362e-10\n"
     ]
    },
    {
     "name": "stdout",
     "output_type": "stream",
     "text": [
      "chi² = 54.74 (dPhi = 51.99%) lam: 1000.0\n",
      "--------------------------------------------------------------------------------\n",
      "inv.iter 7 ... Running one inversion step!\n"
     ]
    },
    {
     "name": "stderr",
     "output_type": "stream",
     "text": [
      "13/12/22 - 22:19:01 - pyGIMLi - \u001b[0;33;49mWARNING\u001b[0m - Multiprocess jacobian currently unavailable for win build\n"
     ]
    },
    {
     "name": "stdout",
     "output_type": "stream",
     "text": [
      "chi² = 16.62 (dPhi = 69.64%) lam: 1000.0\n",
      "--------------------------------------------------------------------------------\n",
      "inv.iter 8 ... Running one inversion step!\n"
     ]
    },
    {
     "name": "stderr",
     "output_type": "stream",
     "text": [
      "13/12/22 - 22:19:01 - pyGIMLi - \u001b[0;32;49mINFO\u001b[0m - 0 66.3147685518857 1.0\n",
      "13/12/22 - 22:19:01 - pyGIMLi - \u001b[0;32;49mINFO\u001b[0m - Solution norm reached\n",
      "13/12/22 - 22:19:01 - pyGIMLi - \u001b[0;32;49mINFO\u001b[0m - 7 1.8843453839402961e-07 2.841516942739467e-09\n",
      "13/12/22 - 22:19:01 - pyGIMLi - \u001b[0;32;49mINFO\u001b[0m - Maximum iteration reached\n",
      "13/12/22 - 22:19:01 - pyGIMLi - \u001b[0;32;49mINFO\u001b[0m - 7 1.8843453839402961e-07 2.841516942739467e-09\n",
      "13/12/22 - 22:19:01 - pyGIMLi - \u001b[0;33;49mWARNING\u001b[0m - Multiprocess jacobian currently unavailable for win build\n",
      "13/12/22 - 22:19:01 - pyGIMLi - \u001b[0;32;49mINFO\u001b[0m - 0 94.01889680034998 1.0\n",
      "13/12/22 - 22:19:01 - pyGIMLi - \u001b[0;32;49mINFO\u001b[0m - Solution norm reached\n",
      "13/12/22 - 22:19:01 - pyGIMLi - \u001b[0;32;49mINFO\u001b[0m - 7 6.336101292960676e-08 6.739178514735657e-10\n",
      "13/12/22 - 22:19:01 - pyGIMLi - \u001b[0;32;49mINFO\u001b[0m - Maximum iteration reached\n",
      "13/12/22 - 22:19:01 - pyGIMLi - \u001b[0;32;49mINFO\u001b[0m - 7 6.336101292960676e-08 6.739178514735657e-10\n",
      "13/12/22 - 22:19:01 - pyGIMLi - \u001b[0;32;49mINFO\u001b[0m - Starting inversion.\n",
      "13/12/22 - 22:19:01 - pyGIMLi - \u001b[0;33;49mWARNING\u001b[0m - Multiprocess jacobian currently unavailable for win build\n",
      "13/12/22 - 22:19:01 - pyGIMLi - \u001b[0;33;49mWARNING\u001b[0m - Multiprocess jacobian currently unavailable for win build\n"
     ]
    },
    {
     "name": "stdout",
     "output_type": "stream",
     "text": [
      "chi² = 1.89 (dPhi = 88.64%) lam: 1000.0\n",
      "--------------------------------------------------------------------------------\n",
      "inv.iter 9 ... Running one inversion step!\n",
      "chi² = 0.73 (dPhi = 61.51%) lam: 1000.0\n",
      "\n",
      "\n",
      "################################################################################\n",
      "#                  Abort criterion reached: chi² <= 1 (0.73)                   #\n",
      "################################################################################\n",
      "7 [0.5389642536667179, 2.89064092947501, 10.302509914514378, 100.24288832001142, 575.6191773832635, 34.95454409712188, 719.3633992302634]\n",
      "0.7270709237157476 2.5512271686883423 13.732115097656106\n",
      "fop: <pygimli.physics.ert.ves.VESModelling object at 0x000001DFCBF179F0>\n",
      "Data transformation: <pygimli.core._pygimli_.RTransLog object at 0x000001DFCCC8A360>\n",
      "Model transformation (cumulative):\n",
      "\t 0 <pygimli.core._pygimli_.RTransLogLU object at 0x000001DFCCC4EE20>\n",
      "\t 1 <pygimli.core._pygimli_.RTransLogLU object at 0x000001DFCCC4EF40>\n",
      "min/max (data): 90.78/323\n",
      "min/max (error): 3%/3%\n",
      "min/max (start model): 8/139\n",
      "--------------------------------------------------------------------------------\n",
      "--------------------------------------------------------------------------------\n",
      "inv.iter 1 ... Running one inversion step!\n"
     ]
    },
    {
     "name": "stderr",
     "output_type": "stream",
     "text": [
      "13/12/22 - 22:19:01 - pyGIMLi - \u001b[0;32;49mINFO\u001b[0m - 0 116.96662965076398 1.0\n",
      "13/12/22 - 22:19:01 - pyGIMLi - \u001b[0;32;49mINFO\u001b[0m - Solution norm reached\n",
      "13/12/22 - 22:19:01 - pyGIMLi - \u001b[0;32;49mINFO\u001b[0m - 4 1.0433436400831622e-07 8.92001114504497e-10\n",
      "13/12/22 - 22:19:01 - pyGIMLi - \u001b[0;32;49mINFO\u001b[0m - Maximum iteration reached\n",
      "13/12/22 - 22:19:01 - pyGIMLi - \u001b[0;32;49mINFO\u001b[0m - 4 1.0433436400831622e-07 8.92001114504497e-10\n",
      "13/12/22 - 22:19:01 - pyGIMLi - \u001b[0;33;49mWARNING\u001b[0m - Multiprocess jacobian currently unavailable for win build\n",
      "13/12/22 - 22:19:02 - pyGIMLi - \u001b[0;32;49mINFO\u001b[0m - 0 80.55637553783012 1.0\n",
      "13/12/22 - 22:19:02 - pyGIMLi - \u001b[0;32;49mINFO\u001b[0m - Solution norm reached\n",
      "13/12/22 - 22:19:02 - pyGIMLi - \u001b[0;32;49mINFO\u001b[0m - 8 3.436763988238302e-07 4.2662842826442225e-09\n",
      "13/12/22 - 22:19:02 - pyGIMLi - \u001b[0;32;49mINFO\u001b[0m - Maximum iteration reached\n",
      "13/12/22 - 22:19:02 - pyGIMLi - \u001b[0;32;49mINFO\u001b[0m - 8 3.436763988238302e-07 4.2662842826442225e-09\n"
     ]
    },
    {
     "name": "stdout",
     "output_type": "stream",
     "text": [
      "chi² = 175.34 (dPhi = 11.25%) lam: 1000\n",
      "--------------------------------------------------------------------------------\n",
      "inv.iter 2 ... Running one inversion step!\n",
      "chi² = 171.29 (dPhi = 2.31%) lam: 1000.0\n",
      "--------------------------------------------------------------------------------\n",
      "inv.iter 3 ... Running one inversion step!\n"
     ]
    },
    {
     "name": "stderr",
     "output_type": "stream",
     "text": [
      "13/12/22 - 22:19:02 - pyGIMLi - \u001b[0;33;49mWARNING\u001b[0m - Multiprocess jacobian currently unavailable for win build\n",
      "13/12/22 - 22:19:02 - pyGIMLi - \u001b[0;32;49mINFO\u001b[0m - 0 76.942613423186 1.0\n",
      "13/12/22 - 22:19:02 - pyGIMLi - \u001b[0;32;49mINFO\u001b[0m - Solution norm reached\n",
      "13/12/22 - 22:19:02 - pyGIMLi - \u001b[0;32;49mINFO\u001b[0m - 8 6.057449956234153e-07 7.872685481734354e-09\n",
      "13/12/22 - 22:19:02 - pyGIMLi - \u001b[0;32;49mINFO\u001b[0m - Maximum iteration reached\n",
      "13/12/22 - 22:19:02 - pyGIMLi - \u001b[0;32;49mINFO\u001b[0m - 8 6.057449956234153e-07 7.872685481734354e-09\n",
      "13/12/22 - 22:19:02 - pyGIMLi - \u001b[0;33;49mWARNING\u001b[0m - Multiprocess jacobian currently unavailable for win build\n",
      "13/12/22 - 22:19:02 - pyGIMLi - \u001b[0;32;49mINFO\u001b[0m - 0 84.96065709524385 1.0\n",
      "13/12/22 - 22:19:02 - pyGIMLi - \u001b[0;32;49mINFO\u001b[0m - Solution norm reached\n",
      "13/12/22 - 22:19:02 - pyGIMLi - \u001b[0;32;49mINFO\u001b[0m - 8 3.246149451875739e-07 3.820767826968067e-09\n",
      "13/12/22 - 22:19:02 - pyGIMLi - \u001b[0;32;49mINFO\u001b[0m - Maximum iteration reached\n",
      "13/12/22 - 22:19:02 - pyGIMLi - \u001b[0;32;49mINFO\u001b[0m - 8 3.246149451875739e-07 3.820767826968067e-09\n",
      "13/12/22 - 22:19:02 - pyGIMLi - \u001b[0;33;49mWARNING\u001b[0m - Multiprocess jacobian currently unavailable for win build\n",
      "13/12/22 - 22:19:02 - pyGIMLi - \u001b[0;32;49mINFO\u001b[0m - 0 107.03963727338846 1.0\n"
     ]
    },
    {
     "name": "stdout",
     "output_type": "stream",
     "text": [
      "chi² = 149.43 (dPhi = 12.76%) lam: 1000.0\n",
      "--------------------------------------------------------------------------------\n",
      "inv.iter 4 ... Running one inversion step!\n",
      "chi² = 68.81 (dPhi = 53.95%) lam: 1000.0\n",
      "--------------------------------------------------------------------------------\n",
      "inv.iter 5 ... Running one inversion step!\n"
     ]
    },
    {
     "name": "stderr",
     "output_type": "stream",
     "text": [
      "13/12/22 - 22:19:02 - pyGIMLi - \u001b[0;32;49mINFO\u001b[0m - Solution norm reached\n",
      "13/12/22 - 22:19:02 - pyGIMLi - \u001b[0;32;49mINFO\u001b[0m - 6 6.023969838630305e-07 5.627793583833405e-09\n",
      "13/12/22 - 22:19:02 - pyGIMLi - \u001b[0;32;49mINFO\u001b[0m - Maximum iteration reached\n",
      "13/12/22 - 22:19:02 - pyGIMLi - \u001b[0;32;49mINFO\u001b[0m - 6 6.023969838630305e-07 5.627793583833405e-09\n",
      "13/12/22 - 22:19:02 - pyGIMLi - \u001b[0;33;49mWARNING\u001b[0m - Multiprocess jacobian currently unavailable for win build\n",
      "13/12/22 - 22:19:02 - pyGIMLi - \u001b[0;32;49mINFO\u001b[0m - 0 107.13679931854712 1.0\n",
      "13/12/22 - 22:19:02 - pyGIMLi - \u001b[0;32;49mINFO\u001b[0m - Solution norm reached\n",
      "13/12/22 - 22:19:02 - pyGIMLi - \u001b[0;32;49mINFO\u001b[0m - 6 1.6554061855284805e-08 1.5451331345138503e-10\n",
      "13/12/22 - 22:19:02 - pyGIMLi - \u001b[0;32;49mINFO\u001b[0m - Maximum iteration reached\n",
      "13/12/22 - 22:19:02 - pyGIMLi - \u001b[0;32;49mINFO\u001b[0m - 6 1.6554061855284805e-08 1.5451331345138503e-10\n",
      "13/12/22 - 22:19:02 - pyGIMLi - \u001b[0;33;49mWARNING\u001b[0m - Multiprocess jacobian currently unavailable for win build\n"
     ]
    },
    {
     "name": "stdout",
     "output_type": "stream",
     "text": [
      "chi² = 18.45 (dPhi = 73.18%) lam: 1000.0\n",
      "--------------------------------------------------------------------------------\n",
      "inv.iter 6 ... Running one inversion step!\n",
      "chi² = 2.6 (dPhi = 85.93%) lam: 1000.0\n",
      "--------------------------------------------------------------------------------\n",
      "inv.iter 7 ... Running one inversion step!\n"
     ]
    },
    {
     "name": "stderr",
     "output_type": "stream",
     "text": [
      "13/12/22 - 22:19:03 - pyGIMLi - \u001b[0;32;49mINFO\u001b[0m - 0 58.834756027649924 1.0\n",
      "13/12/22 - 22:19:03 - pyGIMLi - \u001b[0;32;49mINFO\u001b[0m - Solution norm reached\n",
      "13/12/22 - 22:19:03 - pyGIMLi - \u001b[0;32;49mINFO\u001b[0m - 6 8.19769714543659e-09 1.3933425918489418e-10\n",
      "13/12/22 - 22:19:03 - pyGIMLi - \u001b[0;32;49mINFO\u001b[0m - Maximum iteration reached\n",
      "13/12/22 - 22:19:03 - pyGIMLi - \u001b[0;32;49mINFO\u001b[0m - 6 8.19769714543659e-09 1.3933425918489418e-10\n"
     ]
    },
    {
     "name": "stdout",
     "output_type": "stream",
     "text": [
      "chi² = 0.78 (dPhi = 69.99%) lam: 1000.0\n",
      "\n",
      "\n",
      "################################################################################\n",
      "#                  Abort criterion reached: chi² <= 1 (0.78)                   #\n",
      "################################################################################\n",
      "7 [0.527449356480219, 3.21041432870762, 6.346227949763969, 100.12920727588087, 535.1694305303932, 22.12401803456371, 651.757425426833]\n",
      "0.7791134501870417 2.631113268287282 10.084091634951807\n"
     ]
    }
   ],
   "source": [
    "tLog = pg.trans.TransLog()\n",
    "inv = LSQRInversion(fop=f, verbose=True)\n",
    "inv.LSQRiter = 20\n",
    "# inv = pg.Inversion(fop=f)\n",
    "inv.dataTrans = tLog\n",
    "inv.modelTrans = tLog\n",
    "startModel = pg.cat(pg.Vector(nlay-1, 8), pg.Vector(nlay, pg.median(rhoa)))\n",
    "inv.inv.setMarquardtScheme()\n",
    "model1 = inv.run(rhoa, pg.Vector(len(rhoa), errPerc/100), lam=1000, startModel=startModel)\n",
    "print(model1)\n",
    "print(inv.chi2(), inv.relrms(), pg.sum(inv.model[:nlay-1]))\n",
    "G = pg.Matrix(rows=1, cols=len(startModel))\n",
    "for i in range(3):\n",
    "    G.setVal(0, i, 1)\n",
    "\n",
    "c = pg.Vector(1, pg.sum(synthk))\n",
    "inv.setParameterConstraints(G, c, 100)\n",
    "model2 = inv.run(rhoa, pg.Vector(len(rhoa), errPerc/100), lam=1000, startModel=startModel)\n",
    "print(model2)\n",
    "print(inv.chi2(), inv.relrms(), pg.sum(inv.model[:nlay-1]))"
   ]
  },
  {
   "cell_type": "code",
   "execution_count": 4,
   "id": "40f27bd8",
   "metadata": {},
   "outputs": [
    {
     "data": {
      "text/plain": [
       "[<matplotlib.lines.Line2D at 0x1dfcccab850>]"
      ]
     },
     "execution_count": 4,
     "metadata": {},
     "output_type": "execute_result"
    },
    {
     "data": {
      "image/png": "[encoded data removed]",
      "text/plain": [
       "<Figure size 432x288 with 1 Axes>"
      ]
     },
     "metadata": {
      "needs_background": "light"
     },
     "output_type": "display_data"
    }
   ],
   "source": [
    "# model response\n",
    "fig, ax = pg.plt.subplots()\n",
    "ax.loglog(rhoa, ab2, \"x\")\n",
    "ax.loglog(inv.response, ab2, \"-\")"
   ]
  },
  {
   "cell_type": "code",
   "execution_count": 7,
   "id": "cac679c1",
   "metadata": {},
   "outputs": [
    {
     "data": {
      "image/png": "[encoded data removed]",
      "text/plain": [
       "<Figure size 432x288 with 1 Axes>"
      ]
     },
     "metadata": {
      "needs_background": "light"
     },
     "output_type": "display_data"
    }
   ],
   "source": [
    "# the models\n",
    "fig, ax = pg.plt.subplots()\n",
    "pg.viewer.mpl.drawModel1D(ax, synthk, synres, plot=\"semilogx\", label=\"synth\")\n",
    "pg.viewer.mpl.drawModel1D(ax, model=model1, label=\"unconstrained\")\n",
    "pg.viewer.mpl.drawModel1D(ax, model=model2, label=\"constrained\")\n",
    "ax.set_ylim(15, 0)\n",
    "ax.grid(True)\n",
    "ax.legend();"
   ]
  }
 ],
 "metadata": {
  "hide_input": false,
  "kernelspec": {
   "display_name": "Python 3 (ipykernel)",
   "language": "python",
   "name": "python3"
  },
  "language_info": {
   "codemirror_mode": {
    "name": "ipython",
    "version": 3
   },
   "file_extension": ".py",
   "mimetype": "text/x-python",
   "name": "python",
   "nbconvert_exporter": "python",
   "pygments_lexer": "ipython3",
   "version": "3.8.13"
  },
  "toc": {
   "base_numbering": 1,
   "nav_menu": {},
   "number_sections": false,
   "sideBar": true,
   "skip_h1_title": false,
   "title_cell": "Table of Contents",
   "title_sidebar": "Contents",
   "toc_cell": false,
   "toc_position": {},
   "toc_section_display": true,
   "toc_window_display": false
  },
  "varInspector": {
   "cols": {
    "lenName": 16,
    "lenType": 16,
    "lenVar": 40
   },
   "kernels_config": {
    "python": {
     "delete_cmd_postfix": "",
     "delete_cmd_prefix": "del ",
     "library": "var_list.py",
     "varRefreshCmd": "print(var_dic_list())"
    },
    "r": {
     "delete_cmd_postfix": ") ",
     "delete_cmd_prefix": "rm(",
     "library": "var_list.r",
     "varRefreshCmd": "cat(var_dic_list()) "
    }
   },
   "types_to_exclude": [
    "module",
    "function",
    "builtin_function_or_method",
    "instance",
    "_Feature"
   ],
   "window_display": false
  }
 },
 "nbformat": 4,
 "nbformat_minor": 5
}
