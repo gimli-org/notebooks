{
 "cells": [
  {
   "cell_type": "code",
   "execution_count": 60,
   "metadata": {},
   "outputs": [],
   "source": [
    "import numpy as np\n",
    "import matplotlib.pyplot as plt\n",
    "import pygimli as pg\n",
    "import pygimli.meshtools as mt\n",
    "from pygimli.physics.seismics import solvePressureWave, drawSeismogram, ricker"
   ]
  },
  {
   "cell_type": "code",
   "execution_count": 61,
   "metadata": {},
   "outputs": [
    {
     "data": {
      "text/plain": [
       "(<Axes: >, None)"
      ]
     },
     "execution_count": 61,
     "metadata": {},
     "output_type": "execute_result"
    }
   ],
   "source": [
    "earth = mt.createCircle(radius=6.371e3, nSegments=32, marker=1)\n",
    "outercore = mt.createCircle(radius=3.49e3, nSegments=32, marker=2)\n",
    "innercore = mt.createCircle(radius=1.216e3, nSegments=32, marker=3)\n",
    "geo = earth+outercore+innercore\n",
    "pg.show(geo)"
   ]
  },
  {
   "cell_type": "code",
   "execution_count": 62,
   "metadata": {},
   "outputs": [
    {
     "data": {
      "text/plain": [
       "(<Axes: >, <matplotlib.colorbar.Colorbar at 0x2b48786efa0>)"
      ]
     },
     "execution_count": 62,
     "metadata": {},
     "output_type": "execute_result"
    }
   ],
   "source": [
    "mesh = mt.createMesh(geo, area=3e3)\n",
    "vmap = [[1, 6], [2, 14], [3, 8]]\n",
    "pg.show(mesh, vmap)"
   ]
  },
  {
   "cell_type": "code",
   "execution_count": 63,
   "metadata": {},
   "outputs": [
    {
     "data": {
      "text/plain": [
       "[<matplotlib.lines.Line2D at 0x2b3f7917e20>]"
      ]
     },
     "execution_count": 63,
     "metadata": {},
     "output_type": "execute_result"
    }
   ],
   "source": [
    "t = np.arange(0, 1000, 0.3)\n",
    "f = 0.01\n",
    "uS = ricker(f, t)\n",
    "plt.plot(t, uS)"
   ]
  },
  {
   "cell_type": "code",
   "execution_count": 64,
   "metadata": {},
   "outputs": [
    {
     "data": {
      "application/vnd.jupyter.widget-view+json": {
       "model_id": "776ccfd380234b8caff2ca1022167720",
       "version_major": 2,
       "version_minor": 0
      },
      "text/plain": [
       "   0%|          |0/3334 [00:00 < ?]"
      ]
     },
     "metadata": {},
     "output_type": "display_data"
    }
   ],
   "source": [
    "mesh.populate(\"v\", vmap)\n",
    "mesh[\"times\"] = t\n",
    "A = solvePressureWave(mesh, velocities=mesh[\"v\"], times=t, sourcePos=[-6100, 0], uSource=uS, verbose=True)\n",
    "B = pg.utils.gmat2numpy(A)"
   ]
  },
  {
   "cell_type": "code",
   "execution_count": 65,
   "metadata": {},
   "outputs": [
    {
     "data": {
      "text/plain": [
       "(<Axes: >, <matplotlib.colorbar.Colorbar at 0x2b3fc25fc40>)"
      ]
     },
     "execution_count": 65,
     "metadata": {},
     "output_type": "execute_result"
    }
   ],
   "source": [
    "pg.show(mesh, A[100], cMin=-1, cMax=1, cMap=\"seismic\",nLevs=11, contourLines=False)"
   ]
  },
  {
   "cell_type": "code",
   "execution_count": 66,
   "metadata": {},
   "outputs": [
    {
     "data": {
      "text/plain": [
       "(<Axes: >, <matplotlib.colorbar.Colorbar at 0x2b4884b7c10>)"
      ]
     },
     "execution_count": 66,
     "metadata": {},
     "output_type": "execute_result"
    }
   ],
   "source": [
    "ee = 2\n",
    "ls = 1\n",
    "vv = ee + ls\n",
    "pg.show(mesh, symlog(A[30], 10**(-ee), linearSpread=1),\n",
    "        cMin=-vv, cMax=vv, cMap=\"seismic\",nLevs=21, contourLines=False)"
   ]
  },
  {
   "cell_type": "code",
   "execution_count": 67,
   "metadata": {},
   "outputs": [
    {
     "ename": "NameError",
     "evalue": "name 'dfsdfsd' is not defined",
     "output_type": "error",
     "traceback": [
      "\u001b[1;31m---------------------------------------------------------------------------\u001b[0m",
      "\u001b[1;31mNameError\u001b[0m                                 Traceback (most recent call last)",
      "Cell \u001b[1;32mIn[67], line 1\u001b[0m\n\u001b[1;32m----> 1\u001b[0m dfsdfsd\n",
      "\u001b[1;31mNameError\u001b[0m: name 'dfsdfsd' is not defined"
     ]
    }
   ],
   "source": [
    "dfsdfsd"
   ]
  },
  {
   "cell_type": "code",
   "execution_count": null,
   "metadata": {},
   "outputs": [],
   "source": [
    "from pygimli.viewer import showAnimation\n",
    "from pygimli.core.math import symlog"
   ]
  },
  {
   "cell_type": "code",
   "execution_count": null,
   "metadata": {},
   "outputs": [],
   "source": [
    "fig, ax = plt.subplots()\n",
    "# pg.show(mesh, symlog(B[100], 1e-3), ax=ax, cMin=-3, cMax=3, cMap=\"seismic\",nLevs=21, contourLines=False)\n",
    "vv = 2\n",
    "ani = showAnimation(mesh, symlog(B[::30], 10**(-vv)), ax=ax, cMin=-vv, cMax=vv, cMap=\"seismic\",nLevs=21, contourLines=False)"
   ]
  },
  {
   "cell_type": "code",
   "execution_count": null,
   "metadata": {},
   "outputs": [],
   "source": [
    "ani.save(\"out.gif\")"
   ]
  },
  {
   "cell_type": "code",
   "execution_count": null,
   "metadata": {},
   "outputs": [],
   "source": [
    "import numpy as np\n",
    "from matplotlib.animation import FuncAnimation\n",
    "from IPython import display\n",
    "import matplotlib.pyplot as plt"
   ]
  },
  {
   "cell_type": "code",
   "execution_count": null,
   "metadata": {},
   "outputs": [],
   "source": [
    "def AnimationFunction(frame):\n",
    "    pg.show(mesh, A[frame*10], cMin=-1, cMax=1, cMap=\"seismic\",nLevs=11, contourLines=False)"
   ]
  },
  {
   "cell_type": "code",
   "execution_count": null,
   "metadata": {},
   "outputs": [],
   "source": [
    "# anim_created = FuncAnimation(Figure, AnimationFunction, frames=100, interval=25)"
   ]
  },
  {
   "cell_type": "code",
   "execution_count": null,
   "metadata": {},
   "outputs": [],
   "source": [
    "ax, _ = pg.show(mesh, A[100], cMin=-1, cMax=1, cMap=\"seismic\",nLevs=11, contourLines=False)"
   ]
  }
 ],
 "metadata": {
  "kernelspec": {
   "display_name": "pg14",
   "language": "python",
   "name": "python3"
  },
  "language_info": {
   "codemirror_mode": {
    "name": "ipython",
    "version": 3
   },
   "file_extension": ".py",
   "mimetype": "text/x-python",
   "name": "python",
   "nbconvert_exporter": "python",
   "pygments_lexer": "ipython3",
   "version": "3.9.16"
  },
  "orig_nbformat": 4
 },
 "nbformat": 4,
 "nbformat_minor": 2
}
