{
 "cells": [
  {
   "cell_type": "code",
   "execution_count": 1,
   "id": "6aaa152b-57a9-447c-95ae-fe17daa81170",
   "metadata": {},
   "outputs": [
    {
     "name": "stdout",
     "output_type": "stream",
     "text": [
      "0.34.1\n",
      "0.13.1\n"
     ]
    }
   ],
   "source": [
    "import pygimli as pg\n",
    "from pygimli.testing.test_show import testShowPV\n",
    "import pyvista as pv\n",
    "print(pv.__version__)\n",
    "import panel as pnl\n",
    "print(pnl.__version__)"
   ]
  },
  {
   "cell_type": "code",
   "execution_count": 2,
   "id": "5e12c26d-c816-422f-bf54-bc57232e8d9f",
   "metadata": {},
   "outputs": [
    {
     "name": "stdout",
     "output_type": "stream",
     "text": [
      "Show Boundary: Mesh: Nodes: 8 Cells: 0 Boundaries: 6\n"
     ]
    },
    {
     "data": {
      "application/vnd.jupyter.widget-view+json": {
       "model_id": "c059448d1d444a94814c2ae051c07775",
       "version_major": 2,
       "version_minor": 0
      },
      "text/plain": [
       "ViewInteractiveWidget(height=768, layout=Layout(height='auto', width='100%'), width=1024)"
      ]
     },
     "metadata": {},
     "output_type": "display_data"
    },
    {
     "name": "stdout",
     "output_type": "stream",
     "text": [
      "Show Cells: Mesh: Nodes: 64 Cells: 216 Boundaries: 480\n"
     ]
    },
    {
     "data": {
      "application/vnd.jupyter.widget-view+json": {
       "model_id": "60bf0a60729044ffaf01d59447f3e9c0",
       "version_major": 2,
       "version_minor": 0
      },
      "text/plain": [
       "ViewInteractiveWidget(height=768, layout=Layout(height='auto', width='100%'), width=1024)"
      ]
     },
     "metadata": {},
     "output_type": "display_data"
    },
    {
     "name": "stderr",
     "output_type": "stream",
     "text": [
      "30/11/22 - 12:13:14 - pyGIMLi - \u001b[0;33;49mWARNING\u001b[0m - Given data fits neither cell count nor node count:\n",
      "30/11/22 - 12:13:14 - pyGIMLi - \u001b[0;33;49mWARNING\u001b[0m - 480 vs. 0 vs. 64\n"
     ]
    },
    {
     "name": "stdout",
     "output_type": "stream",
     "text": [
      "Show Markers with vtk filters: Mesh: Nodes: 64 Cells: 216 Boundaries: 480\n"
     ]
    },
    {
     "data": {
      "application/vnd.jupyter.widget-view+json": {
       "model_id": "010ce037b7f642cf8de5fd53cc9fd820",
       "version_major": 2,
       "version_minor": 0
      },
      "text/plain": [
       "ViewInteractiveWidget(height=768, layout=Layout(height='auto', width='100%'), width=1024)"
      ]
     },
     "metadata": {},
     "output_type": "display_data"
    },
    {
     "name": "stdout",
     "output_type": "stream",
     "text": [
      "Show Field (x)\n"
     ]
    },
    {
     "data": {
      "application/vnd.jupyter.widget-view+json": {
       "model_id": "76640b0fed8249db8b202d8c11b77e78",
       "version_major": 2,
       "version_minor": 0
      },
      "text/plain": [
       "ViewInteractiveWidget(height=768, layout=Layout(height='auto', width='100%'), width=1024)"
      ]
     },
     "metadata": {},
     "output_type": "display_data"
    },
    {
     "name": "stdout",
     "output_type": "stream",
     "text": [
      "Show TetP2 Field (x)\n"
     ]
    },
    {
     "data": {
      "application/vnd.jupyter.widget-view+json": {
       "model_id": "e40e776cf3f44e008287653a35c988ec",
       "version_major": 2,
       "version_minor": 0
      },
      "text/plain": [
       "ViewInteractiveWidget(height=768, layout=Layout(height='auto', width='100%'), width=1024)"
      ]
     },
     "metadata": {},
     "output_type": "display_data"
    },
    {
     "name": "stdout",
     "output_type": "stream",
     "text": [
      "Show Streams (x)\n"
     ]
    },
    {
     "name": "stderr",
     "output_type": "stream",
     "text": [
      "c:\\Program Files\\software\\Anaconda\\envs\\py38\\lib\\site-packages\\pyvista\\core\\filters\\data_set.py:3207: RuntimeWarning: divide by zero encountered in double_scalars\n",
      "  max_time = 4.0 * self.GetLength() / max_velocity\n"
     ]
    },
    {
     "data": {
      "application/vnd.jupyter.widget-view+json": {
       "model_id": "08cb8763f38f42b19c3d595317952926",
       "version_major": 2,
       "version_minor": 0
      },
      "text/plain": [
       "ViewInteractiveWidget(height=768, layout=Layout(height='auto', width='100%'), width=1024)"
      ]
     },
     "metadata": {},
     "output_type": "display_data"
    }
   ],
   "source": [
    "testShowPV()"
   ]
  },
  {
   "cell_type": "code",
   "execution_count": null,
   "id": "4d0afba2-c10c-4832-a4ab-3f052b3b81eb",
   "metadata": {},
   "outputs": [],
   "source": []
  }
 ],
 "metadata": {
  "kernelspec": {
   "display_name": "Python 3 (ipykernel)",
   "language": "python",
   "name": "python3"
  },
  "language_info": {
   "codemirror_mode": {
    "name": "ipython",
    "version": 3
   },
   "file_extension": ".py",
   "mimetype": "text/x-python",
   "name": "python",
   "nbconvert_exporter": "python",
   "pygments_lexer": "ipython3",
   "version": "3.8.13"
  }
 },
 "nbformat": 4,
 "nbformat_minor": 5
}
