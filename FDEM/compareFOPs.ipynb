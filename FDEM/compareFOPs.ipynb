{
 "cells": [
  {
   "cell_type": "markdown",
   "id": "dd61c639",
   "metadata": {},
   "source": [
    "## Comparison of different FDEM forward operators:\n",
    "* the pyGIMLi built-in EM1dModelling using the quasi-static approximation (Ward & Hohmann, 1989)\n",
    "* the Python-implementation for HEM taking dielectric displacement into account (Siemon, 2012)\n",
    "* the very general empymod implementation by Werthmüller et al. (2017)"
   ]
  },
  {
   "cell_type": "code",
   "execution_count": 1,
   "id": "3172234b",
   "metadata": {},
   "outputs": [],
   "source": [
    "import numpy as np\n",
    "import pygimli as pg\n",
    "from pygimli.physics.em.fdem import HEMmodelling\n",
    "import empymod"
   ]
  },
  {
   "cell_type": "markdown",
   "id": "cf43b5a3",
   "metadata": {},
   "source": [
    "Both pyGIMLi-based forward operators yield the ratio of secondary to primary field, which is defined by (Ward & Hohmann, 1989)\n",
    "$$ H_z = \\frac{1}{4\\pi\\sqrt{z^2+c^2}^3} \\left(\\frac{3z^2}{z^2+c^2}-1 \\right) $$\n",
    "where c is the coil spacing and r the distance Tx-Rx. It reduces for $z=0$ to\n",
    "$$ H_z = -\\frac{1}{4\\pi c^3} $$ \n",
    "\n",
    "Note that EM1dModelling was designed for ground EM and yields Hs/Hp in percent, whereas HEMModelling was designed for the HEM system that measures Hs/Hp in ppm.\n",
    "\n",
    "We consider a frequency sounding using a classical HCP (vertical magnetic dipole transmitter and receiver at the same level) configuration."
   ]
  },
  {
   "cell_type": "code",
   "execution_count": 2,
   "id": "67072a31",
   "metadata": {},
   "outputs": [],
   "source": [
    "coilspacing = 100.  # typical distance\n",
    "freq = 2**np.arange(10) * 110.  # MaxMin/Promys system\n",
    "height = 1  # both loops carried by a human\n",
    "fak = 100.  # results as % of primary field"
   ]
  },
  {
   "cell_type": "code",
   "execution_count": 3,
   "id": "227ba12f",
   "metadata": {},
   "outputs": [],
   "source": [
    "# Alternatively, we can use a typical airborne case like the RESOLVE bird:\n",
    "if 1:\n",
    "    coilspacing = 10.  # RESOLVE bird dimension\n",
    "    freq = np.array([387., 1820., 8330., 41500., 133400.])\n",
    "    fak = 1e6  # typically in ppm\n",
    "    height = 50.  # typical flight elevation "
   ]
  },
  {
   "cell_type": "markdown",
   "id": "3ea0b593",
   "metadata": {},
   "source": [
    "Model is a three-layer model as in pyGIMLi (d1, d2, rho1, rho2, rho3) that can be formulated without (default) or with air."
   ]
  },
  {
   "cell_type": "code",
   "execution_count": 4,
   "id": "71dbfde4",
   "metadata": {},
   "outputs": [],
   "source": [
    "model = [20, 20, 200, 1000, 30]\n",
    "nlay = (len(model)+1) // 2"
   ]
  },
  {
   "cell_type": "code",
   "execution_count": 5,
   "id": "c6e52741",
   "metadata": {},
   "outputs": [],
   "source": [
    "fop1 = pg.core.FDEM1dModelling(nlay, freq, coilspacing, height)\n",
    "fas = (coilspacing**-3)/4/np.pi\n",
    "fafak = fop1.freeAirSolution()[0] / fas  # bug in freeAir (pgcore<1.4)\n",
    "resp1 = fop1(model) / 100 * fak * fafak  # returns %, remove fafak reveals bug for heights>>coilspacing\n",
    "fop2 = HEMmodelling(nlay, height, f=freq, r=coilspacing)\n",
    "resp2 = fop2(model) / 1e6 * fak  # returns ppm"
   ]
  },
  {
   "cell_type": "markdown",
   "id": "6e264184",
   "metadata": {},
   "source": [
    "We now build the operator using empymod and test it first."
   ]
  },
  {
   "cell_type": "code",
   "execution_count": 6,
   "id": "907c180b",
   "metadata": {},
   "outputs": [
    {
     "data": {
      "text/plain": [
       "EMArray([-1.89761695e-08+2.60429064e-02j, -1.81122557e-08+5.53769578e-03j,\n",
       "         -1.64361108e-08+1.20991714e-03j, -4.36202365e-09+2.42834750e-04j,\n",
       "          8.67785259e-08+7.54924169e-05j])"
      ]
     },
     "execution_count": 6,
     "metadata": {},
     "output_type": "execute_result"
    }
   ],
   "source": [
    "empymod.dipole(res=[2e14, 10000],\n",
    "               depth=[0],\n",
    "               freqtime=freq,\n",
    "               src=[0, 0, -height],\n",
    "               rec=[coilspacing, 0, -height],\n",
    "               ab=66, squeeze=True, verb=1, xdirect=True,\n",
    "               htarg={'pts_per_dec': 0, 'dlf': 'key_51_2012'}\n",
    "              )"
   ]
  },
  {
   "cell_type": "code",
   "execution_count": 7,
   "id": "4de60fd1",
   "metadata": {},
   "outputs": [],
   "source": [
    "class HCPModellingEMP(pg.frameworks.Modelling):\n",
    "    \"\"\"Modelling a HCP coil-coil system by empymod.\"\"\"\n",
    "\n",
    "    def __init__(self, freq, coilspacing, height=0):\n",
    "        \"\"\"Initialize by saving parameters.\"\"\"\n",
    "        super().__init__()\n",
    "        self.coilspacing = coilspacing\n",
    "        self.freq = freq\n",
    "        self.height = height\n",
    "        self.freeAir = (coilspacing**-3)/4/np.pi\n",
    "\n",
    "    def response(self, model):\n",
    "        \"\"\"Forward response for layered block model.\"\"\"\n",
    "        nlay = (len(model)+1) // 2\n",
    "        thk = model[:nlay-1]\n",
    "        res = model[nlay-1:]\n",
    "        assert len(res), len(thk)+1\n",
    "        inp = dict(res=np.concatenate(([2e14], res)),\n",
    "                   depth=np.concatenate(([0.1], np.cumsum(thk))),\n",
    "                   freqtime=self.freq,\n",
    "                   src=[0, 0, -self.height],\n",
    "                   rec=[self.coilspacing, 0, -self.height],\n",
    "                   ab=66, squeeze=True, verb=1, xdirect=True,\n",
    "                   htarg={'pts_per_dec': 0, 'dlf': 'key_51_2012'}\n",
    "                  )\n",
    "        # print(inp)\n",
    "        iwu = -1j * 2 * np.pi * self.freq * pg.physics.constants.mu0\n",
    "        out = empymod.dipole(**inp) * iwu / self.freeAir - 1\n",
    "        # print(out)\n",
    "        return np.concatenate([out.real, out.imag])\n",
    "    \n",
    "fop3 = HCPModellingEMP(freq, coilspacing, height=height)\n",
    "re = fop3.response([10000])  # should be mainly real-valued primary field"
   ]
  },
  {
   "cell_type": "code",
   "execution_count": 8,
   "id": "c1f8dcea",
   "metadata": {},
   "outputs": [],
   "source": [
    "resp3 = fop3.response(model) * fak"
   ]
  },
  {
   "cell_type": "code",
   "execution_count": 9,
   "id": "766ed63b",
   "metadata": {},
   "outputs": [
    {
     "name": "stdout",
     "output_type": "stream",
     "text": [
      "[[  32.47104224   32.47097138   32.45758529]\n",
      " [ 106.66407926  106.66314207  106.54441747]\n",
      " [ 233.77961916  233.76806142  232.10390222]\n",
      " [ 514.88570258  519.85998678  404.70487067]\n",
      " [ 982.65705587 1044.06046479  178.22622049]\n",
      " [  54.88063491   54.8806654    54.81254227]\n",
      " [ 114.75731655  114.75783124  114.49550695]\n",
      " [ 203.9977752   204.00554837  203.07873329]\n",
      " [ 430.72480894  431.57192811  391.7520577 ]\n",
      " [ 523.18847929  519.72675796 -784.56651135]]\n"
     ]
    }
   ],
   "source": [
    "print(np.column_stack([resp1, resp2, resp3]))"
   ]
  },
  {
   "cell_type": "code",
   "execution_count": 10,
   "id": "ed3fe212",
   "metadata": {},
   "outputs": [],
   "source": [
    "def showSounding(f, resp, ax=None, **kwargs):\n",
    "    \"\"\"Show FDEM sounding.\"\"\"\n",
    "    if ax is None:\n",
    "        fig, ax = pg.plt.subplots(ncols=2, sharey=True)\n",
    "\n",
    "    ip, op = np.split(resp, 2)\n",
    "    ax[0].semilogy(ip, f, **kwargs)\n",
    "    ax[1].semilogy(op, f, **kwargs)\n",
    "    ax[0].set_ylim(min(f), max(f))\n",
    "    ax[0].grid(True)\n",
    "    ax[1].grid(True)\n",
    "    return ax"
   ]
  },
  {
   "cell_type": "code",
   "execution_count": 11,
   "id": "4d028f4f",
   "metadata": {},
   "outputs": [
    {
     "data": {
      "image/png": "[encoded data removed]",
      "text/plain": [
       "<Figure size 640x480 with 2 Axes>"
      ]
     },
     "metadata": {},
     "output_type": "display_data"
    }
   ],
   "source": [
    "fig, ax = pg.plt.subplots(ncols=2)\n",
    "showSounding(freq, resp1, ax=ax, label=\"core\")\n",
    "showSounding(freq, resp2, ax=ax, label=\"HEM\")\n",
    "showSounding(freq, resp3, ax=ax, label=\"empymod\");\n",
    "ax[0].legend();"
   ]
  },
  {
   "cell_type": "markdown",
   "id": "f7619ee1",
   "metadata": {},
   "source": [
    "### References\n",
    "* Ward, S. H., and G. W. Hohmann, 1987, Electromagnetic theory for geophysical applications, in M. N. Nabighian, ed., Electromagnetic methods in applied geophysics, 1: Theory, SEG, 130–310. \n",
    "* Siemon, B. (2012): Accurate 1D forward and inverse modeling of high-frequency helicopter-borne electromagnetic data, Geophysics 77(4), WB71-87.\n",
    "* Werthmüller, D. (2017): An open-source full 3D electromagnetic modeler for 1D VTI media in Python: empymod, Geophysics 82(6), WB9-19."
   ]
  }
 ],
 "metadata": {
  "kernelspec": {
   "display_name": "Python 3 (ipykernel)",
   "language": "python",
   "name": "python3"
  },
  "language_info": {
   "codemirror_mode": {
    "name": "ipython",
    "version": 3
   },
   "file_extension": ".py",
   "mimetype": "text/x-python",
   "name": "python",
   "nbconvert_exporter": "python",
   "pygments_lexer": "ipython3",
   "version": "3.9.13"
  }
 },
 "nbformat": 4,
 "nbformat_minor": 5
}
