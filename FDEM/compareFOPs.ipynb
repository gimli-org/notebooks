{
 "cells": [
  {
   "cell_type": "markdown",
   "id": "dd61c639",
   "metadata": {},
   "source": [
    "## Comparison of different FDEM forward operators:\n",
    "* the pyGIMLi built-in EM1dModelling using the quasi-static approximation (Ward & Hohmann, 1989)\n",
    "* the Python-implementation for HEM taking dielectric displacement into account (Siemon, 2012)\n",
    "* the very general empymod implementation by Werthmüller et al. (2017)"
   ]
  },
  {
   "cell_type": "code",
   "execution_count": 1,
   "id": "3172234b",
   "metadata": {},
   "outputs": [],
   "source": [
    "import numpy as np\n",
    "import pygimli as pg\n",
    "from pygimli.physics.em.fdem import HEMmodelling\n",
    "import empymod"
   ]
  },
  {
   "cell_type": "markdown",
   "id": "cf43b5a3",
   "metadata": {},
   "source": [
    "Both pyGIMLi-based forward operators yield the ratio of secondary to primary field, which is defined by (Ward & Hohmann, 1989)\n",
    "$$ H_z = \\frac{1}{4\\pi\\sqrt{z^2+c^2}^3} \\left(\\frac{3z^2}{z^2+c^2}-1 \\right) $$\n",
    "where c is the coil spacing and r the distance Tx-Rx. It reduces for $z=0$ to\n",
    "$$ H_z = -\\frac{1}{4\\pi c^3} $$ \n",
    "\n",
    "Note that EM1dModelling was designed for ground EM and yields Hs/Hp in percent, whereas HEMModelling was designed for the HEM system that measures Hs/Hp in ppm.\n",
    "\n",
    "We consider a frequency sounding using a classical HCP (vertical magnetic dipole transmitter and receiver at the same level) configuration."
   ]
  },
  {
   "cell_type": "code",
   "execution_count": 2,
   "id": "67072a31",
   "metadata": {},
   "outputs": [],
   "source": [
    "coilspacing = 100.  # typical distance\n",
    "freq = 2**np.arange(10) * 110.  # MaxMin/Promys system\n",
    "height = 1  # both loops carried by a human\n",
    "fak = 100.  # results as % of primary field"
   ]
  },
  {
   "cell_type": "code",
   "execution_count": 3,
   "id": "227ba12f",
   "metadata": {},
   "outputs": [],
   "source": [
    "# Alternatively, we can use a typical airborne case like the RESOLVE bird:\n",
    "if 0:\n",
    "    coilspacing = 10.  # RESOLVE bird dimension\n",
    "    # freq = np.array([387., 1820., 8330., 41500., 133400.])\n",
    "    fak = 1e6  # typically in ppm\n",
    "    height = 50.  # typical flight elevation "
   ]
  },
  {
   "cell_type": "markdown",
   "id": "3ea0b593",
   "metadata": {},
   "source": [
    "Model is a three-layer model as in pyGIMLi (d1, d2, rho1, rho2, rho3) that can be formulated without (default) or with air."
   ]
  },
  {
   "cell_type": "code",
   "execution_count": 4,
   "id": "71dbfde4",
   "metadata": {},
   "outputs": [],
   "source": [
    "model = [20, 20, 200, 1000, 30]\n",
    "nlay = (len(model)+1) // 2"
   ]
  },
  {
   "cell_type": "code",
   "execution_count": 5,
   "id": "c6e52741",
   "metadata": {},
   "outputs": [],
   "source": [
    "fop1 = pg.core.FDEM1dModelling(nlay, freq, coilspacing, height)\n",
    "fas = (coilspacing**-3)/4/np.pi\n",
    "fafak = fop1.freeAirSolution()[0] / fas  # bug in freeAir (pgcore<1.4)\n",
    "resp1 = fop1(model) / 100 * fak * fafak  # returns %, remove fafak reveals bug for heights>>coilspacing\n",
    "fop2 = HEMmodelling(nlay, height, f=freq, r=coilspacing)\n",
    "resp2 = fop2(model) / 1e6 * fak  # returns ppm"
   ]
  },
  {
   "cell_type": "markdown",
   "id": "6e264184",
   "metadata": {},
   "source": [
    "We now build the operator using empymod and test it first."
   ]
  },
  {
   "cell_type": "code",
   "execution_count": 6,
   "id": "907c180b",
   "metadata": {},
   "outputs": [
    {
     "data": {
      "text/plain": [
       "EMArray([-1.94485429e-08+9.16241081e-05j, -1.92655848e-08+4.58124410e-05j,\n",
       "         -1.90073618e-08+2.29067582e-05j, -1.86433247e-08+1.14541207e-05j,\n",
       "         -1.81311873e-08+5.72807293e-06j, -1.74467671e-08+2.86557576e-06j,\n",
       "         -1.72126872e-08+1.43475872e-06j, -1.45774273e-08+7.19129356e-07j,\n",
       "         -1.35872905e-08+3.63162731e-07j, -1.07618539e-08+1.83320896e-07j])"
      ]
     },
     "execution_count": 6,
     "metadata": {},
     "output_type": "execute_result"
    }
   ],
   "source": [
    "empymod.dipole(res=[2e14, 10000],\n",
    "               depth=[0],\n",
    "               freqtime=freq,\n",
    "               src=[0, 0, -height],\n",
    "               rec=[coilspacing, 0, -height],\n",
    "               ab=66, squeeze=True, verb=1, xdirect=True,\n",
    "               htarg={'pts_per_dec': 0, 'dlf': 'key_51_2012'}\n",
    "              )"
   ]
  },
  {
   "cell_type": "code",
   "execution_count": 7,
   "id": "4de60fd1",
   "metadata": {},
   "outputs": [],
   "source": [
    "class HCPModellingEMP(pg.frameworks.Modelling):\n",
    "    \"\"\"Modelling a HCP coil-coil system by empymod.\"\"\"\n",
    "\n",
    "    def __init__(self, freq, coilspacing, height=0):\n",
    "        \"\"\"Initialize by saving parameters.\"\"\"\n",
    "        super().__init__()\n",
    "        self.coilspacing = coilspacing\n",
    "        self.freq = freq\n",
    "        self.height = height\n",
    "        self.freeAir = (coilspacing**-3)/4/np.pi\n",
    "\n",
    "    def response(self, model):\n",
    "        \"\"\"Forward response for layered block model.\"\"\"\n",
    "        nlay = (len(model)+1) // 2\n",
    "        thk = model[:nlay-1]\n",
    "        res = model[nlay-1:]\n",
    "        assert len(res), len(thk)+1\n",
    "        inp = dict(res=np.concatenate(([2e14], res)),\n",
    "                   depth=np.concatenate(([0.1], np.cumsum(thk))),\n",
    "                   freqtime=self.freq,\n",
    "                   src=[0, 0, -self.height],\n",
    "                   rec=[self.coilspacing, 0, -self.height],\n",
    "                   ab=66, squeeze=True, verb=1, xdirect=True,\n",
    "                   htarg={'pts_per_dec': 0, 'dlf': 'key_51_2012'}\n",
    "                  )\n",
    "        # print(inp)\n",
    "        iwu = -1j * 2 * np.pi * self.freq * pg.physics.constants.mu0\n",
    "        out = empymod.dipole(**inp) * iwu / self.freeAir - 1\n",
    "        # print(out)\n",
    "        return np.concatenate([out.real, out.imag])\n",
    "    \n",
    "fop3 = HCPModellingEMP(freq, coilspacing, height=height)\n",
    "re = fop3.response([10000])  # should be mainly real-valued primary field"
   ]
  },
  {
   "cell_type": "code",
   "execution_count": 8,
   "id": "4b02ec2b",
   "metadata": {},
   "outputs": [],
   "source": [
    "resp3 = fop3.response(model) * fak"
   ]
  },
  {
   "cell_type": "code",
   "execution_count": 9,
   "id": "766ed63b",
   "metadata": {},
   "outputs": [
    {
     "name": "stdout",
     "output_type": "stream",
     "text": [
      "[[  1.35059282   1.35059217   1.35037274]\n",
      " [  2.9758696    2.9758678    2.97526396]\n",
      " [  6.04466399   6.04466034   6.04313677]\n",
      " [ 11.02951309  11.02951207  11.0260789 ]\n",
      " [ 17.52649276  17.52653122  17.5199408 ]\n",
      " [ 23.48743815  23.48768807  23.48392347]\n",
      " [ 25.89169193  25.8928015   25.90263429]\n",
      " [ 22.82343409  22.87410122  22.78429158]\n",
      " [ 11.81507458  12.01680593  12.11733279]\n",
      " [-19.28815676 -18.517901   -19.45526211]\n",
      " [  3.34701391   3.3470143    3.34712782]\n",
      " [  5.30556824   5.30556994   5.30601753]\n",
      " [  7.55062615   7.55063291   7.55219215]\n",
      " [  9.06801873   9.06804233   9.07290279]\n",
      " [  8.00580662   8.00587507   8.0194899 ]\n",
      " [  2.49928444   2.49943436   2.53491717]\n",
      " [ -7.87424394  -7.87407949  -7.73975841]\n",
      " [-22.68391501 -22.68333825 -22.58353694]\n",
      " [-43.89684416 -43.91174668 -43.48290546]\n",
      " [-70.85781938 -71.02648145 -70.57548875]]\n"
     ]
    }
   ],
   "source": [
    "print(np.column_stack([resp1, resp2, resp3]))"
   ]
  },
  {
   "cell_type": "code",
   "execution_count": 10,
   "id": "ed3fe212",
   "metadata": {},
   "outputs": [],
   "source": [
    "def showSounding(f, resp, ax=None, **kwargs):\n",
    "    \"\"\"Show FDEM sounding.\"\"\"\n",
    "    if ax is None:\n",
    "        fig, ax = pg.plt.subplots(ncols=2, sharey=True)\n",
    "\n",
    "    ip, op = np.split(resp, 2)\n",
    "    ax[0].semilogy(ip, f, **kwargs)\n",
    "    ax[1].semilogy(op, f, **kwargs)\n",
    "    ax[0].set_ylim(min(f), max(f))\n",
    "    ax[0].grid(True)\n",
    "    ax[1].grid(True)\n",
    "    return ax"
   ]
  },
  {
   "cell_type": "code",
   "execution_count": 11,
   "id": "4d028f4f",
   "metadata": {},
   "outputs": [
    {
     "data": {
      "image/png": "[encoded data removed]",
      "text/plain": [
       "<Figure size 640x480 with 2 Axes>"
      ]
     },
     "metadata": {},
     "output_type": "display_data"
    }
   ],
   "source": [
    "fig, ax = pg.plt.subplots(ncols=2)\n",
    "showSounding(freq, resp1, ax=ax, label=\"core\")\n",
    "showSounding(freq, resp2, ax=ax, label=\"HEM\")\n",
    "showSounding(freq, resp3, ax=ax, label=\"empymod\");\n",
    "ax[0].legend();"
   ]
  },
  {
   "cell_type": "markdown",
   "id": "f7619ee1",
   "metadata": {},
   "source": [
    "### References\n",
    "* Ward, S. H., and G. W. Hohmann, 1987, Electromagnetic theory for geophysical applications, in M. N. Nabighian, ed., Electromagnetic methods in applied geophysics, 1: Theory, SEG, 130–310. \n",
    "* Siemon, B. (2012): Accurate 1D forward and inverse modeling of high-frequency helicopter-borne electromagnetic data, Geophysics 77(4), WB71-87.\n",
    "* Werthmüller, D. (2017): An open-source full 3D electromagnetic modeler for 1D VTI media in Python: empymod, Geophysics 82(6), WB9-19."
   ]
  }
 ],
 "metadata": {
  "kernelspec": {
   "display_name": "Python 3 (ipykernel)",
   "language": "python",
   "name": "python3"
  },
  "language_info": {
   "codemirror_mode": {
    "name": "ipython",
    "version": 3
   },
   "file_extension": ".py",
   "mimetype": "text/x-python",
   "name": "python",
   "nbconvert_exporter": "python",
   "pygments_lexer": "ipython3",
   "version": "3.9.13"
  }
 },
 "nbformat": 4,
 "nbformat_minor": 5
}
