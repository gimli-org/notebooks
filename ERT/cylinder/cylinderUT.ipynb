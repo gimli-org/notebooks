{
 "cells": [
  {
   "cell_type": "markdown",
   "metadata": {},
   "source": [
    "## Computing ERT geometric factors for a laboratory scale cylinder"
   ]
  },
  {
   "cell_type": "code",
   "execution_count": 1,
   "metadata": {},
   "outputs": [],
   "source": [
    "# we first import pygimli and two modules, for meshing and for ERT\n",
    "import pygimli as pg\n",
    "import pygimli.meshtools as mt\n",
    "from pygimli.physics import ert\n",
    "import numpy as np"
   ]
  },
  {
   "cell_type": "code",
   "execution_count": 2,
   "metadata": {},
   "outputs": [
    {
     "name": "stdout",
     "output_type": "stream",
     "text": [
      "1.2192\n"
     ]
    }
   ],
   "source": [
    "# define the electrodes and their spacings\n",
    "nel = 8\n",
    "de = 0.15\n",
    "# define the dimensions of the cylinder\n",
    "diameter = 0.0508\n",
    "xLeft = 0.1\n",
    "xRight = 0.0692\n",
    "length = (nel-1) * de  + xLeft + xRight\n",
    "print(length)"
   ]
  },
  {
   "cell_type": "code",
   "execution_count": 3,
   "metadata": {},
   "outputs": [
    {
     "name": "stdout",
     "output_type": "stream",
     "text": [
      "Data: Sensors: 8 data: 5, nonzero entries: ['a', 'b', 'm', 'n', 'valid']\n",
      "8 [0.0, 0.15, 0.3, 0.44999999999999996, 0.6, 0.75, 0.8999999999999999, 1.05]\n"
     ]
    }
   ],
   "source": [
    "shm = pg.DataContainerERT()\n",
    "for n in range(nel):\n",
    "    shm.createSensor([n*de, 0, -0.01])\n",
    "\n",
    "for a in np.arange(nel-3):\n",
    "    shm.createFourPointData(a, a, a+3, a+1, a+2)\n",
    "\n",
    "print(shm)\n",
    "print(pg.x(shm))"
   ]
  },
  {
   "cell_type": "code",
   "execution_count": 10,
   "metadata": {},
   "outputs": [
    {
     "name": "stdout",
     "output_type": "stream",
     "text": [
      "BoundingBox [RVector3: (-0.0254, -0.0508, 0.0), RVector3: (0.0254, 0.0, 1.2192)]\n",
      "BoundingBox [RVector3: (0.0, -0.0254, -0.0508), RVector3: (1.2192, 0.0254, 0.0)]\n",
      "BoundingBox [RVector3: (-0.1, -0.0254, -0.0508), RVector3: (1.1192, 0.0254, 0.0)]\n"
     ]
    },
    {
     "data": {
      "application/vnd.jupyter.widget-view+json": {
       "model_id": "932f6ad02dfe40dfb6ba46d474bf5525",
       "version_major": 2,
       "version_minor": 0
      },
      "text/plain": [
       "BokehModel(combine_events=True, render_bundle={'docs_json': {'b4d92644-be93-4446-bca0-9b10b77e2fe5': {'defs': …"
      ]
     },
     "metadata": {},
     "output_type": "display_data"
    },
    {
     "data": {
      "application/vnd.jupyter.widget-view+json": {
       "model_id": "121597eb6f2b414593b4227f07c4aa9c",
       "version_major": 2,
       "version_minor": 0
      },
      "text/plain": [
       "BokehModel(combine_events=True, render_bundle={'docs_json': {'b83e1c0d-448e-4d01-b005-fd7116f40061': {'defs': …"
      ]
     },
     "metadata": {},
     "output_type": "display_data"
    }
   ],
   "source": [
    "# We create a cylinder and shift it so that the \n",
    "from math import pi\n",
    "radius = diameter/2\n",
    "cyl = mt.createCylinder(radius=radius, height=length, pos=[0, -radius, length/2], nSegments=16)\n",
    "print(cyl.boundingBox())\n",
    "# cyl.rotate([0, pi/2, 0])\n",
    "cyl.swapCoordinates(1, 2)\n",
    "cyl.swapCoordinates(0, 1)\n",
    "print(cyl.boundingBox())\n",
    "cyl.translate([-xLeft, 0, 0])  # so that first electrode is at 0,0,0\n",
    "print(cyl.boundingBox())\n",
    "pl, _ = pg.show(cyl)\n",
    "pl.show()\n"
   ]
  },
  {
   "cell_type": "code",
   "execution_count": 5,
   "metadata": {},
   "outputs": [
    {
     "name": "stdout",
     "output_type": "stream",
     "text": [
      "RVector3: (0.0, 0.0, -0.01)\n",
      "RVector3: (0.15, 0.0, -0.01)\n",
      "RVector3: (0.3, 0.0, -0.01)\n",
      "RVector3: (0.44999999999999996, 0.0, -0.01)\n",
      "RVector3: (0.6, 0.0, -0.01)\n",
      "RVector3: (0.75, 0.0, -0.01)\n",
      "RVector3: (0.8999999999999999, 0.0, -0.01)\n",
      "RVector3: (1.05, 0.0, -0.01)\n"
     ]
    }
   ],
   "source": [
    "for el in shm.sensors():\n",
    "    print(el)\n",
    "    cyl.createNode(el, marker=-99)"
   ]
  },
  {
   "cell_type": "code",
   "execution_count": 6,
   "metadata": {},
   "outputs": [
    {
     "name": "stdout",
     "output_type": "stream",
     "text": [
      "Mesh: Nodes: 40 Cells: 0 Boundaries: 18\n",
      "tetgen -pzACaq1.2 C:\\Users\\Guenther.T\\AppData\\Local\\Temp\\tmp8t6m2rzn.poly\n",
      "Mesh: Nodes: 1857 Cells: 6910 Boundaries: 15173\n"
     ]
    }
   ],
   "source": [
    "print(cyl)\n",
    "cyl.exportVTK(\"cylinder.vtk\")\n",
    "mesh = mt.createMesh(cyl, verbose=True)\n",
    "print(mesh)\n",
    "mesh.exportVTK(\"mesh.vtk\")\n",
    "#pg.show(mesh)"
   ]
  },
  {
   "cell_type": "code",
   "execution_count": 7,
   "metadata": {},
   "outputs": [
    {
     "name": "stdout",
     "output_type": "stream",
     "text": [
      "Mesh: Nodes: 11976 Cells: 6910 Boundaries: 15173\n"
     ]
    }
   ],
   "source": [
    "meshP = mesh.createP2()\n",
    "print(meshP)"
   ]
  },
  {
   "cell_type": "code",
   "execution_count": 8,
   "metadata": {},
   "outputs": [
    {
     "name": "stderr",
     "output_type": "stream",
     "text": [
      "04/06/23 - 17:38:27 - pyGIMLi - \u001b[0;32;49mINFO\u001b[0m - Save RVector binary\n",
      "04/06/23 - 17:38:27 - pyGIMLi - \u001b[0;32;49mINFO\u001b[0m - Cache stored: C:\\Guenther.T\\Anwendungsdaten\\pygimli\\Cache\\12675775970174681839\n"
     ]
    },
    {
     "name": "stdout",
     "output_type": "stream",
     "text": [
      "5 [0.013167537567749398, 0.013167537517368967, 0.013167537544045444, 0.013167537534939369, 0.013167537532982033]\n"
     ]
    }
   ],
   "source": [
    "# data = ert.simulate(mesh=meshP, scheme=shm)\n",
    "k = ert.createGeometricFactors(shm, numerical=True, mesh=mesh, p2=True)\n",
    "print(k)"
   ]
  },
  {
   "cell_type": "code",
   "execution_count": 9,
   "metadata": {},
   "outputs": [
    {
     "name": "stdout",
     "output_type": "stream",
     "text": [
      "0.013512199442599938\n",
      "5 [-2.5507459116087716, -2.5507462844602173, -2.5507460870350798, -2.550746154426591, -2.5507461689122835]\n"
     ]
    }
   ],
   "source": [
    "kAna = radius**2*pi/de\n",
    "print(kAna)\n",
    "print(k/kAna*100-100)"
   ]
  }
 ],
 "metadata": {
  "hide_input": false,
  "kernelspec": {
   "display_name": "Python 3 (ipykernel)",
   "language": "python",
   "name": "python3"
  },
  "language_info": {
   "codemirror_mode": {
    "name": "ipython",
    "version": 3
   },
   "file_extension": ".py",
   "mimetype": "text/x-python",
   "name": "python",
   "nbconvert_exporter": "python",
   "pygments_lexer": "ipython3",
   "version": "3.9.16"
  },
  "toc": {
   "base_numbering": 1,
   "nav_menu": {},
   "number_sections": true,
   "sideBar": true,
   "skip_h1_title": false,
   "title_cell": "Table of Contents",
   "title_sidebar": "Contents",
   "toc_cell": false,
   "toc_position": {},
   "toc_section_display": true,
   "toc_window_display": false
  },
  "varInspector": {
   "cols": {
    "lenName": 16,
    "lenType": 16,
    "lenVar": 40
   },
   "kernels_config": {
    "python": {
     "delete_cmd_postfix": "",
     "delete_cmd_prefix": "del ",
     "library": "var_list.py",
     "varRefreshCmd": "print(var_dic_list())"
    },
    "r": {
     "delete_cmd_postfix": ") ",
     "delete_cmd_prefix": "rm(",
     "library": "var_list.r",
     "varRefreshCmd": "cat(var_dic_list()) "
    }
   },
   "types_to_exclude": [
    "module",
    "function",
    "builtin_function_or_method",
    "instance",
    "_Feature"
   ],
   "window_display": false
  }
 },
 "nbformat": 4,
 "nbformat_minor": 4
}
