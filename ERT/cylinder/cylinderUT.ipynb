{
 "cells": [
  {
   "cell_type": "markdown",
   "metadata": {},
   "source": [
    "## Computing ERT geometric factors for a laboratory scale cylinder"
   ]
  },
  {
   "cell_type": "code",
   "execution_count": 23,
   "metadata": {},
   "outputs": [],
   "source": [
    "# we first import pygimli and two modules, for meshing and for ERT\n",
    "import pygimli as pg\n",
    "import pygimli.meshtools as mt\n",
    "from pygimli.physics import ert\n",
    "import numpy as np"
   ]
  },
  {
   "cell_type": "code",
   "execution_count": 2,
   "metadata": {},
   "outputs": [
    {
     "name": "stdout",
     "output_type": "stream",
     "text": [
      "1.2192\n"
     ]
    }
   ],
   "source": [
    "# define the electrodes and their spacings\n",
    "nel = 8\n",
    "de = 0.15\n",
    "# define the dimensions of the cylinder\n",
    "diameter = 0.0508\n",
    "xLeft = 0.1\n",
    "xRight = 0.0692\n",
    "length = (nel-1) * de  + xLeft + xRight\n",
    "print(length)"
   ]
  },
  {
   "cell_type": "code",
   "execution_count": 91,
   "metadata": {},
   "outputs": [
    {
     "name": "stdout",
     "output_type": "stream",
     "text": [
      "Data: Sensors: 8 data: 5, nonzero entries: ['a', 'b', 'm', 'n', 'valid']\n",
      "8 [0.0, 0.15, 0.3, 0.44999999999999996, 0.6, 0.75, 0.8999999999999999, 1.05]\n"
     ]
    }
   ],
   "source": [
    "shm = pg.DataContainerERT()\n",
    "for n in range(nel):\n",
    "    shm.createSensor([n*de, 0, -0.01])\n",
    "\n",
    "for a in np.arange(nel-3):\n",
    "    shm.createFourPointData(a, a, a+3, a+1, a+2)\n",
    "\n",
    "print(shm)\n",
    "print(pg.x(shm))"
   ]
  },
  {
   "cell_type": "code",
   "execution_count": 92,
   "metadata": {},
   "outputs": [
    {
     "name": "stdout",
     "output_type": "stream",
     "text": [
      "BoundingBox [RVector3: (-0.0254, -0.0508, 0.0), RVector3: (0.0254, 0.0, 1.2192)]\n",
      "BoundingBox [RVector3: (0.0, -0.0254, -0.0508), RVector3: (1.2192, 0.0254, 0.0)]\n",
      "BoundingBox [RVector3: (-0.1, -0.0254, -0.0508), RVector3: (1.1192, 0.0254, 0.0)]\n"
     ]
    },
    {
     "data": {},
     "metadata": {},
     "output_type": "display_data"
    },
    {
     "data": {
      "text/html": [
       "<div id='1121'>\n",
       "  <div class=\"bk-root\" id=\"5714fea5-dc05-488f-a6dd-d8b2ac3f790e\" data-root-id=\"1121\"></div>\n",
       "</div>\n",
       "<script type=\"application/javascript\">(function(root) {\n",
       "  function embed_document(root) {\n",
       "    var docs_json = {\"f2191278-ee88-4e93-bbe0-2f8e961bc124\":{\"defs\":[{\"extends\":null,\"module\":null,\"name\":\"ReactiveHTML1\",\"overrides\":[],\"properties\":[]},{\"extends\":null,\"module\":null,\"name\":\"FlexBox1\",\"overrides\":[],\"properties\":[{\"default\":\"flex-start\",\"kind\":null,\"name\":\"align_content\"},{\"default\":\"flex-start\",\"kind\":null,\"name\":\"align_items\"},{\"default\":\"row\",\"kind\":null,\"name\":\"flex_direction\"},{\"default\":\"wrap\",\"kind\":null,\"name\":\"flex_wrap\"},{\"default\":\"flex-start\",\"kind\":null,\"name\":\"justify_content\"}]},{\"extends\":null,\"module\":null,\"name\":\"GridStack1\",\"overrides\":[],\"properties\":[{\"default\":\"warn\",\"kind\":null,\"name\":\"mode\"},{\"default\":null,\"kind\":null,\"name\":\"ncols\"},{\"default\":null,\"kind\":null,\"name\":\"nrows\"},{\"default\":true,\"kind\":null,\"name\":\"allow_resize\"},{\"default\":true,\"kind\":null,\"name\":\"allow_drag\"},{\"default\":[],\"kind\":null,\"name\":\"state\"}]},{\"extends\":null,\"module\":null,\"name\":\"click1\",\"overrides\":[],\"properties\":[{\"default\":\"\",\"kind\":null,\"name\":\"terminal_output\"},{\"default\":\"\",\"kind\":null,\"name\":\"debug_name\"},{\"default\":0,\"kind\":null,\"name\":\"clears\"}]},{\"extends\":null,\"module\":null,\"name\":\"NotificationAreaBase1\",\"overrides\":[],\"properties\":[{\"default\":\"bottom-right\",\"kind\":null,\"name\":\"position\"},{\"default\":0,\"kind\":null,\"name\":\"_clear\"}]},{\"extends\":null,\"module\":null,\"name\":\"NotificationArea1\",\"overrides\":[],\"properties\":[{\"default\":[],\"kind\":null,\"name\":\"notifications\"},{\"default\":\"bottom-right\",\"kind\":null,\"name\":\"position\"},{\"default\":0,\"kind\":null,\"name\":\"_clear\"},{\"default\":[{\"background\":\"#ffc107\",\"icon\":{\"className\":\"fas fa-exclamation-triangle\",\"color\":\"white\",\"tagName\":\"i\"},\"type\":\"warning\"},{\"background\":\"#007bff\",\"icon\":{\"className\":\"fas fa-info-circle\",\"color\":\"white\",\"tagName\":\"i\"},\"type\":\"info\"}],\"kind\":null,\"name\":\"types\"}]},{\"extends\":null,\"module\":null,\"name\":\"Notification\",\"overrides\":[],\"properties\":[{\"default\":null,\"kind\":null,\"name\":\"background\"},{\"default\":3000,\"kind\":null,\"name\":\"duration\"},{\"default\":null,\"kind\":null,\"name\":\"icon\"},{\"default\":\"\",\"kind\":null,\"name\":\"message\"},{\"default\":null,\"kind\":null,\"name\":\"notification_type\"},{\"default\":false,\"kind\":null,\"name\":\"_destroyed\"}]},{\"extends\":null,\"module\":null,\"name\":\"TemplateActions1\",\"overrides\":[],\"properties\":[{\"default\":0,\"kind\":null,\"name\":\"open_modal\"},{\"default\":0,\"kind\":null,\"name\":\"close_modal\"}]},{\"extends\":null,\"module\":null,\"name\":\"MaterialTemplateActions1\",\"overrides\":[],\"properties\":[{\"default\":0,\"kind\":null,\"name\":\"open_modal\"},{\"default\":0,\"kind\":null,\"name\":\"close_modal\"}]}],\"roots\":{\"references\":[{\"attributes\":{\"high\":1.0,\"low\":0.0,\"name\":\"Boundary Marker\",\"palette\":[\"#440154\",\"#440255\",\"#440357\",\"#450558\",\"#45065a\",\"#45085b\",\"#46095c\",\"#460b5e\",\"#460c5f\",\"#460e61\",\"#470f62\",\"#471163\",\"#471265\",\"#471466\",\"#471567\",\"#471669\",\"#47186a\",\"#48196b\",\"#481a6c\",\"#481c6e\",\"#481d6f\",\"#481e70\",\"#482071\",\"#482172\",\"#482273\",\"#482374\",\"#472575\",\"#472676\",\"#472777\",\"#472878\",\"#472a79\",\"#472b7a\",\"#472c7b\",\"#462d7c\",\"#462f7c\",\"#46307d\",\"#46317e\",\"#45327f\",\"#45347f\",\"#453580\",\"#453681\",\"#443781\",\"#443982\",\"#433a83\",\"#433b83\",\"#433c84\",\"#423d84\",\"#423e85\",\"#424085\",\"#414186\",\"#414286\",\"#404387\",\"#404487\",\"#3f4587\",\"#3f4788\",\"#3e4888\",\"#3e4989\",\"#3d4a89\",\"#3d4b89\",\"#3d4c89\",\"#3c4d8a\",\"#3c4e8a\",\"#3b508a\",\"#3b518a\",\"#3a528b\",\"#3a538b\",\"#39548b\",\"#39558b\",\"#38568b\",\"#38578c\",\"#37588c\",\"#37598c\",\"#365a8c\",\"#365b8c\",\"#355c8c\",\"#355d8c\",\"#345e8d\",\"#345f8d\",\"#33608d\",\"#33618d\",\"#32628d\",\"#32638d\",\"#31648d\",\"#31658d\",\"#31668d\",\"#30678d\",\"#30688d\",\"#2f698d\",\"#2f6a8d\",\"#2e6b8e\",\"#2e6c8e\",\"#2e6d8e\",\"#2d6e8e\",\"#2d6f8e\",\"#2c708e\",\"#2c718e\",\"#2c728e\",\"#2b738e\",\"#2b748e\",\"#2a758e\",\"#2a768e\",\"#2a778e\",\"#29788e\",\"#29798e\",\"#287a8e\",\"#287a8e\",\"#287b8e\",\"#277c8e\",\"#277d8e\",\"#277e8e\",\"#267f8e\",\"#26808e\",\"#26818e\",\"#25828e\",\"#25838d\",\"#24848d\",\"#24858d\",\"#24868d\",\"#23878d\",\"#23888d\",\"#23898d\",\"#22898d\",\"#228a8d\",\"#228b8d\",\"#218c8d\",\"#218d8c\",\"#218e8c\",\"#208f8c\",\"#20908c\",\"#20918c\",\"#1f928c\",\"#1f938b\",\"#1f948b\",\"#1f958b\",\"#1f968b\",\"#1e978a\",\"#1e988a\",\"#1e998a\",\"#1e998a\",\"#1e9a89\",\"#1e9b89\",\"#1e9c89\",\"#1e9d88\",\"#1e9e88\",\"#1e9f88\",\"#1ea087\",\"#1fa187\",\"#1fa286\",\"#1fa386\",\"#20a485\",\"#20a585\",\"#21a685\",\"#21a784\",\"#22a784\",\"#23a883\",\"#23a982\",\"#24aa82\",\"#25ab81\",\"#26ac81\",\"#27ad80\",\"#28ae7f\",\"#29af7f\",\"#2ab07e\",\"#2bb17d\",\"#2cb17d\",\"#2eb27c\",\"#2fb37b\",\"#30b47a\",\"#32b57a\",\"#33b679\",\"#35b778\",\"#36b877\",\"#38b976\",\"#39b976\",\"#3bba75\",\"#3dbb74\",\"#3ebc73\",\"#40bd72\",\"#42be71\",\"#44be70\",\"#45bf6f\",\"#47c06e\",\"#49c16d\",\"#4bc26c\",\"#4dc26b\",\"#4fc369\",\"#51c468\",\"#53c567\",\"#55c666\",\"#57c665\",\"#59c764\",\"#5bc862\",\"#5ec961\",\"#60c960\",\"#62ca5f\",\"#64cb5d\",\"#67cc5c\",\"#69cc5b\",\"#6bcd59\",\"#6dce58\",\"#70ce56\",\"#72cf55\",\"#74d054\",\"#77d052\",\"#79d151\",\"#7cd24f\",\"#7ed24e\",\"#81d34c\",\"#83d34b\",\"#86d449\",\"#88d547\",\"#8bd546\",\"#8dd644\",\"#90d643\",\"#92d741\",\"#95d73f\",\"#97d83e\",\"#9ad83c\",\"#9dd93a\",\"#9fd938\",\"#a2da37\",\"#a5da35\",\"#a7db33\",\"#aadb32\",\"#addc30\",\"#afdc2e\",\"#b2dd2c\",\"#b5dd2b\",\"#b7dd29\",\"#bade27\",\"#bdde26\",\"#bfdf24\",\"#c2df22\",\"#c5df21\",\"#c7e01f\",\"#cae01e\",\"#cde01d\",\"#cfe11c\",\"#d2e11b\",\"#d4e11a\",\"#d7e219\",\"#dae218\",\"#dce218\",\"#dfe318\",\"#e1e318\",\"#e4e318\",\"#e7e419\",\"#e9e419\",\"#ece41a\",\"#eee51b\",\"#f1e51c\",\"#f3e51e\",\"#f6e61f\",\"#f8e621\",\"#fae622\",\"#fde724\"]},\"id\":\"1119\",\"type\":\"LinearColorMapper\"},{\"attributes\":{\"arrays\":{\"18abcf35398ca361b46fff54eb1ec90d\":\"UEsDBBQAAAAIAG9kRFWT6j92YwAAAIABAAAlAAAAZGF0YS8xOGFiY2YzNTM5OGNhMzYxYjQ2ZmZmNTRlYjFlYzkwZDt75szelcIX9qwUDtirWspkD2OfBYozAAGMDRG/sAfGBsnB1IPYMPUwNpp6GyTzbXCYb4OsHsl8Gxzmg9V/cuy3x+Z+kDjMfIQahHp098PUw9ho6jHcj8V8ZPdguB+L+WD1AFBLAQIUABQAAAAIAG9kRFWT6j92YwAAAIABAAAlAAAAAAAAAAAAAACAAQAAAABkYXRhLzE4YWJjZjM1Mzk4Y2EzNjFiNDZmZmY1NGViMWVjOTBkUEsFBgAAAAABAAEAUwAAAKYAAAAAAA==\",\"2ebda7d3c6c3627ba233a85b7027cd58\":\"UEsDBBQAAAAIAG9kRFWBkDoDkwEAAAAEAAAlAAAAZGF0YS8yZWJkYTdkM2M2YzM2MjdiYTIzM2E4NWI3MDI3Y2Q1OHXTb0SdYRgH4E5/VllpSibJJBlJTERGJEZEjIgYETEiYmxEjIjYh4gYETEiYiJiIjISmUgmySRNaqo5Z53O2TXd077M6/r2vs9z37+fN5uTk83+lSCXPAoopJgSyiinkipqqKWeBppoppU2Ouikmx766GeQIUZ4wxjjTDLFDLPMs8ASy6yyxgabbLPDHvsccsQJp5xzwRVJUlyT5obMrUz2zg1pfpHkJ5f84IzvHPONA76yyxe2+Mw6n1jhI4t8YI73TPOOCd4yyiuGeckAL+jlOV08o52ntPCERh5TxyOqeUgFDyjlPkXcI588Evz/ScRb+fFVUZxSGqdWxC3VcWtdTNEYU7XElO0xdVds0RtbDcSWw7H1aKQwEalMR0pzkdpipLgSqa5HyluR+m60cBCtHEdLZ9HaZbSYilbT0fI/rWeyt25Ic02KJFdccM4pJxxxyD577LDNJhusscoySywwzywzTDHJOGO8ZoQhBumnjx666aSDNlpppokG6qmlhioqKaeMEooppIA8cknc/e5//AZQSwECFAAUAAAACABvZERVgZA6A5MBAAAABAAAJQAAAAAAAAAAAAAAgAEAAAAAZGF0YS8yZWJkYTdkM2M2YzM2MjdiYTIzM2E4NWI3MDI3Y2Q1OFBLBQYAAAAAAQABAFMAAADWAQAAAAA=\",\"7077e6ab9874b2e47f7b6e018662f547\":\"UEsDBBQAAAAIAG9kRFXFVS50BQEAAAADAAAlAAAAZGF0YS83MDc3ZTZhYjk4NzRiMmU0N2Y3YjZlMDE4NjYyZjU0N5s1EwR27l/G5aZayjTLHkrvnwUVf/O0/+Yc9hn29z4J+yXwTYCLh+iemWSbMsneo/S5572KOrj4RP2UdZovmu0XeCftblkbDxef4XGHf8sGGxsGKICJT4Co34+uPhhi/n5086Hu2X8XzT0wdy9Fc/9bqHpzQZt/Lr8XwsVDoeb/keaMiTReBhefCXWPx4+s/xysK+HiRWZPudtbQvdA7FkFF58C9a8nmvogaPj8QzP/NTQ8LaHuSX4X5WT34qM9evjDxNHDHyaOHv4wcfTwh4mjhz9MHD38YeLo4Y/mHnj4o7kfHv4wcfTwh4mjhz9MHD38YeLo4Q8TRw9/mDh6+MPE0cMfAFBLAQIUABQAAAAIAG9kRFXFVS50BQEAAAADAAAlAAAAAAAAAAAAAACAAQAAAABkYXRhLzcwNzdlNmFiOTg3NGIyZTQ3ZjdiNmUwMTg2NjJmNTQ3UEsFBgAAAAABAAEAUwAAAEgBAAAAAA==\",\"ac3b5a19643ee5816a1df17f2fadaae3\":\"UEsDBBQAAAAIAG9kRFVSu8IPBgAAAEgAAAAlAAAAZGF0YS9hYzNiNWExOTY0M2VlNTgxNmExZGYxN2YyZmFkYWFlM2NgoA4AAFBLAQIUABQAAAAIAG9kRFVSu8IPBgAAAEgAAAAlAAAAAAAAAAAAAACAAQAAAABkYXRhL2FjM2I1YTE5NjQzZWU1ODE2YTFkZjE3ZjJmYWRhYWUzUEsFBgAAAAABAAEAUwAAAEkAAAAAAA==\",\"c6cc38d0ce9691fbcfec2dea61d638a4\":\"UEsDBBQAAAAIAG9kRFVzJp33SwAAACABAAAlAAAAZGF0YS9jNmNjMzhkMGNlOTY5MWZiY2ZlYzJkZWE2MWQ2MzhhNE3GRw7CUADE0OSnF0jvQO5/y4zELGzJ0gvRv1gHO8CJneoMzuHCLnUF13Bjt/oFv+HO7vUAj/Bkz3qBV3izd33AJ3zZH/2Ff/CtH1BLAQIUABQAAAAIAG9kRFVzJp33SwAAACABAAAlAAAAAAAAAAAAAACAAQAAAABkYXRhL2M2Y2MzOGQwY2U5NjkxZmJjZmVjMmRlYTYxZDYzOGE0UEsFBgAAAAABAAEAUwAAAI4AAAAAAA==\",\"c7e17a6988a0f5a0af60f5f746b02075\":\"UEsDBBQAAAAIAG9kRFXKuxF2lAAAAMgBAAAlAAAAZGF0YS9jN2UxN2E2OTg4YTBmNWEwYWY2MGY1Zjc0NmIwMjA3NU3QAQ6CQAwFUZGCiIiIICLi3v+WjnFI3OSl+U1gu+12v5NhjxyBAiUOqHBEjRManNHigg4Jb6x4YcETMx6YcMeIATf0uPp9OEdnL7OXmXvnC2vvP7Z5c/Ng3gzeWfy9a3SW0l5pnnxvWCdnr+xV5tl9hHX2rbW92ry4r7Au7qax15hX9xnW1V229lpzct9hTe7rez5QSwECFAAUAAAACABvZERVyrsRdpQAAADIAQAAJQAAAAAAAAAAAAAAgAEAAAAAZGF0YS9jN2UxN2E2OTg4YTBmNWEwYWY2MGY1Zjc0NmIwMjA3NVBLBQYAAAAAAQABAFMAAADXAAAAAAA=\",\"ce52d598102e2756143cf4f27a0b5911\":\"UEsDBBQAAAAIAG9kRFWE1+BQMwMAAAAEAAAlAAAAZGF0YS9jZTUyZDU5ODEwMmUyNzU2MTQzY2Y0ZjI3YTBiNTkxMS3DCUzVBRzA8VWr1Wq1WjVAfI/HfQnIfcvx3vs/wiMUBAS55BC57/uWx/He/59ZZllmWWZZZllmWWpRappXeKAIAga4ttbW2lpra99+bX62j/G+dIz3Z2B8IBPTg1mYHtqA6eEczI/kYn40D/Nj+ZgfL0R5ogjlyU0oT5WgPF2K8kwZyrPlKA5bsDhWYHGqxOJcjWVpDRZdLRaXOiyGeiyuDVjcGlE8mlA8m1G8WlC8W1F821D82lH8OzAv68QcKIO6MC/vxhTcgylUhvViCu/DGCGj+kmOHiA5RsZuJSlOxg+SlDBIYqKVxCQrCclDJBiHWGGSyjDxFpkyQtxzMlWuHCF21Sixq0eJeV6mjRK91kb0OhtR6TLDRuR6mWknIktm2wnfIHPshOXKjXZC81RC81VCCmShSnCR3KSyvFiWyFKVoDK5WSWwXG5RCajQCKiUVRrLqmWNhn+trJP1Gn4NslHDt0k2yxYNn1bZpuHdfm+Hhlen7JLdGp49slf2aXj0ywEV961yUFpV3IbksBxRcf3/qLSpGOxStWPQ7Li8ILfJF+3ot8uXbOhfljvkKzZ0O0fRvSpfu3fXCLrX5Rty9zC6N+Ue+dYQ+rflXiv6d6y4vDuIy75BDO/J/VtxlW7vD+D2QT/uB/rx+LAPz4/68DrYi/fHPfgc6sH3k278Pu3CXwYc7iTwsw6CPm8n+Eg7IV+0EXa0lfAvW4j8qpkoGXOsibivG4n/poGE4/UknajDeKIW08kalG+rSfmuitSxSlaNVbDm+3LSftjMulNlZJwuJfN0Cdlnisn5sYi8s4UUnC2g6Fw+xT9tpOx8LuXnc6i4kE3VxSxqL66n/lIGjZfTabm8lraf0+gcX0P3+Gr6rqxk4Eoq1qspDF9TsF0zo143su16MtsnEtkxsYKdN+LZdSOW3Tej2XMzkr2TEeybDGP/rRAO3Arm4FQQh6YCODztz5FpP45O+3DsthfHb3tycsadsRlXTs0YODOr59ysjguzS7k058z43BKuzjkxcceRyTsOTMmZXxyYk/Py7rwjv8rf5p34fWEJfyw48+eCjr8W9fy9aOCfRVf+vevOf1BLAQIUABQAAAAIAG9kRFWE1+BQMwMAAAAEAAAlAAAAAAAAAAAAAACAAQAAAABkYXRhL2NlNTJkNTk4MTAyZTI3NTYxNDNjZjRmMjdhMGI1OTExUEsFBgAAAAABAAEAUwAAAHYDAAAAAA==\"},\"axes\":{\"id\":\"1120\"},\"color_mappers\":[{\"id\":\"1119\"}],\"margin\":[5,5,5,5],\"orientation_widget\":true,\"scene\":{\"calls\":[[\"addRenderer\",[\"instance:${741fb3dd-e9a9-41c1-9542-6c4817abd06d000002a0071d9030}\"]],[\"addRenderer\",[\"instance:${741fb3dd-e9a9-41c1-9542-6c4817abd06d000002a0071d9c50}\"]],[\"addRenderer\",[\"instance:${741fb3dd-e9a9-41c1-9542-6c4817abd06d000002a0071dae80}\"]]],\"dependencies\":[{\"calls\":[[\"setActiveCamera\",[\"instance:${0000029ff56027e0}\"]],[\"addViewProp\",[\"instance:${741fb3dd-e9a9-41c1-9542-6c4817abd06d000002a00869a2b0}\"]],[\"addViewProp\",[\"instance:${741fb3dd-e9a9-41c1-9542-6c4817abd06d000002a00869acb0}\"]]],\"dependencies\":[{\"id\":\"0000029ff56027e0\",\"parent\":\"741fb3dd-e9a9-41c1-9542-6c4817abd06d000002a0071d9030\",\"properties\":{\"clippingRange\":[1.5770536742633325,3.349901772593019],\"focalPoint\":[0.5095999992549419,0.0,-0.0254],\"position\":[1.871799693386233,1.3621996941312917,1.3367996941312916],\"viewUp\":[0.0,0.0,1.0]},\"type\":\"vtkOpenGLCamera\"},{\"calls\":[[\"setMapper\",[\"instance:${741fb3dd-e9a9-41c1-9542-6c4817abd06d000002a00ca9bbf0}\"]],[\"setProperty\",[\"instance:${741fb3dd-e9a9-41c1-9542-6c4817abd06d0000029fea9002a0}\"]]],\"dependencies\":[{\"calls\":[[\"setInputData\",[\"instance:${741fb3dd-e9a9-41c1-9542-6c4817abd06d000002a00ca9bbf0-dataset-0}\",0]],[\"setLookupTable\",[\"instance:${741fb3dd-e9a9-41c1-9542-6c4817abd06d000002a00ca9cc40}\"]]],\"dependencies\":[{\"id\":\"741fb3dd-e9a9-41c1-9542-6c4817abd06d000002a00ca9bbf0-dataset-0\",\"parent\":\"741fb3dd-e9a9-41c1-9542-6c4817abd06d000002a00ca9bbf0\",\"properties\":{\"fields\":[{\"dataType\":\"Int32Array\",\"hash\":\"ac3b5a19643ee5816a1df17f2fadaae3\",\"location\":\"cellData\",\"name\":\"Boundary Marker\",\"numberOfComponents\":1,\"ranges\":[{\"component\":null,\"max\":0.0,\"min\":0.0}],\"registration\":\"setScalars\",\"size\":18,\"vtkClass\":\"vtkDataArray\"}],\"points\":{\"dataType\":\"Float64Array\",\"hash\":\"7077e6ab9874b2e47f7b6e018662f547\",\"name\":\"Points\",\"numberOfComponents\":3,\"ranges\":[{\"component\":null,\"max\":1.1192,\"min\":-0.1},{\"component\":null,\"max\":0.0254,\"min\":-0.0254},{\"component\":null,\"max\":0.0,\"min\":-0.0508},{\"component\":null,\"max\":1.1203523017337,\"min\":0.1}],\"size\":96,\"vtkClass\":\"vtkPoints\"},\"polys\":{\"dataType\":\"Uint32Array\",\"hash\":\"c7e17a6988a0f5a0af60f5f746b02075\",\"name\":null,\"numberOfComponents\":1,\"ranges\":[{\"component\":null,\"max\":31.0,\"min\":0.0}],\"size\":114,\"vtkClass\":\"vtkCellArray\"}},\"type\":\"vtkPolyData\"},{\"arrays\":[{\"dataType\":\"Uint8Array\",\"hash\":\"ce52d598102e2756143cf4f27a0b5911\",\"name\":null,\"numberOfComponents\":4,\"ranges\":[{\"component\":null,\"max\":253.0,\"min\":30.0},{\"component\":null,\"max\":231.0,\"min\":1.0},{\"component\":null,\"max\":142.0,\"min\":24.0},{\"component\":null,\"max\":255.0,\"min\":255.0},{\"component\":null,\"max\":428.5918804643877,\"min\":276.95848064285735}],\"registration\":\"setTable\",\"size\":1024,\"vtkClass\":\"vtkDataArray\"}],\"id\":\"741fb3dd-e9a9-41c1-9542-6c4817abd06d000002a00ca9cc40\",\"parent\":\"741fb3dd-e9a9-41c1-9542-6c4817abd06d000002a00ca9bbf0\",\"properties\":{\"aboveRangeColor\":[1.0,1.0,1.0,1.0],\"alpha\":1.0,\"belowRangeColor\":[0.0,0.0,0.0,1.0],\"hueRange\":[0.5,0],\"indexedLookup\":0,\"nanColor\":[0.6627450980392157,0.6627450980392157,0.6627450980392157,1.0],\"numberOfColors\":256,\"range\":[0.0,1.0],\"saturationRange\":[1.0,1.0],\"useAboveRangeColor\":false,\"useBelowRangeColor\":false,\"valueRange\":[0.0,1.0],\"vectorComponent\":0,\"vectorMode\":1,\"vectorSize\":-1},\"type\":\"vtkLookupTable\"}],\"id\":\"741fb3dd-e9a9-41c1-9542-6c4817abd06d000002a00ca9bbf0\",\"parent\":\"741fb3dd-e9a9-41c1-9542-6c4817abd06d000002a00869a2b0\",\"properties\":{\"arrayAccessMode\":1,\"colorByArrayName\":null,\"colorMode\":1,\"interpolateScalarsBeforeMapping\":1,\"renderTime\":0.0,\"resolveCoincidentTopology\":0,\"scalarMode\":2,\"scalarRange\":[0.0,1.0],\"scalarVisibility\":1,\"useLookupTableScalarRange\":0},\"type\":\"vtkDataSetMapper\"},{\"id\":\"741fb3dd-e9a9-41c1-9542-6c4817abd06d0000029fea9002a0\",\"parent\":\"741fb3dd-e9a9-41c1-9542-6c4817abd06d000002a00869a2b0\",\"properties\":{\"ambient\":0.0,\"ambientColor\":[1.0,1.0,1.0],\"backfaceCulling\":0,\"color\":[1.0,1.0,1.0],\"diffuse\":1.0,\"diffuseColor\":[1.0,1.0,1.0],\"edgeColor\":[0.0,0.0,0.0],\"edgeVisibility\":0,\"frontfaceCulling\":0,\"interpolation\":0,\"lighting\":1,\"lineWidth\":0.10000000149011612,\"opacity\":1.0,\"pointSize\":5.0,\"representation\":2,\"specular\":0.0,\"specularColor\":[1.0,1.0,1.0],\"specularPower\":100.0},\"type\":\"vtkOpenGLProperty\"}],\"id\":\"741fb3dd-e9a9-41c1-9542-6c4817abd06d000002a00869a2b0\",\"parent\":\"741fb3dd-e9a9-41c1-9542-6c4817abd06d000002a0071d9030\",\"properties\":{\"dragable\":1,\"forceOpaque\":false,\"forceTranslucent\":false,\"orientation\":[0.0,-0.0,0.0],\"origin\":[0.0,0.0,0.0],\"pickable\":1,\"position\":[0.0,0.0,0.0],\"scale\":[1.0,1.0,1.0],\"useBounds\":true,\"visibility\":1},\"type\":\"vtkOpenGLActor\"},{\"calls\":[[\"setMapper\",[\"instance:${741fb3dd-e9a9-41c1-9542-6c4817abd06d000002a00caa00d0}\"]],[\"setProperty\",[\"instance:${741fb3dd-e9a9-41c1-9542-6c4817abd06d0000029fea9006c0}\"]]],\"dependencies\":[{\"calls\":[[\"setInputData\",[\"instance:${741fb3dd-e9a9-41c1-9542-6c4817abd06d000002a00caa00d0-dataset-0}\",0]],[\"setLookupTable\",[\"instance:${741fb3dd-e9a9-41c1-9542-6c4817abd06d000002a00caac0f0}\"]]],\"dependencies\":[{\"id\":\"741fb3dd-e9a9-41c1-9542-6c4817abd06d000002a00caa00d0-dataset-0\",\"parent\":\"741fb3dd-e9a9-41c1-9542-6c4817abd06d000002a00caa00d0\",\"properties\":{\"fields\":[],\"lines\":{\"dataType\":\"Uint32Array\",\"hash\":\"c6cc38d0ce9691fbcfec2dea61d638a4\",\"name\":null,\"numberOfComponents\":1,\"ranges\":[{\"component\":null,\"max\":31.0,\"min\":0.0}],\"size\":72,\"vtkClass\":\"vtkCellArray\"},\"points\":{\"dataType\":\"Float32Array\",\"hash\":\"18abcf35398ca361b46fff54eb1ec90d\",\"name\":\"Points\",\"numberOfComponents\":3,\"ranges\":[{\"component\":null,\"max\":1.1191999912261963,\"min\":-0.10000000149011612},{\"component\":null,\"max\":0.02539999969303608,\"min\":-0.02539999969303608},{\"component\":null,\"max\":0.0,\"min\":-0.05079999938607216},{\"component\":null,\"max\":1.1206401832357917,\"min\":0.10000000149011612}],\"size\":96,\"vtkClass\":\"vtkPoints\"}},\"type\":\"vtkPolyData\"},{\"arrays\":[{\"dataType\":\"Uint8Array\",\"hash\":\"2ebda7d3c6c3627ba233a85b7027cd58\",\"name\":null,\"numberOfComponents\":4,\"ranges\":[{\"component\":null,\"max\":255.0,\"min\":0.0},{\"component\":null,\"max\":255.0,\"min\":0.0},{\"component\":null,\"max\":255.0,\"min\":0.0},{\"component\":null,\"max\":255.0,\"min\":255.0},{\"component\":null,\"max\":441.0963613542964,\"min\":360.62445840513925}],\"registration\":\"setTable\",\"size\":1024,\"vtkClass\":\"vtkDataArray\"}],\"id\":\"741fb3dd-e9a9-41c1-9542-6c4817abd06d000002a00caac0f0\",\"parent\":\"741fb3dd-e9a9-41c1-9542-6c4817abd06d000002a00caa00d0\",\"properties\":{\"aboveRangeColor\":[1.0,1.0,1.0,1.0],\"alpha\":1.0,\"belowRangeColor\":[0.0,0.0,0.0,1.0],\"hueRange\":[0.5,0],\"indexedLookup\":0,\"nanColor\":[0.5,0.0,0.0,1.0],\"numberOfColors\":256,\"range\":[0.0,1.0],\"saturationRange\":[1.0,1.0],\"useAboveRangeColor\":false,\"useBelowRangeColor\":false,\"valueRange\":[0.0,1.0],\"vectorComponent\":0,\"vectorMode\":1,\"vectorSize\":-1},\"type\":\"vtkLookupTable\"}],\"id\":\"741fb3dd-e9a9-41c1-9542-6c4817abd06d000002a00caa00d0\",\"parent\":\"741fb3dd-e9a9-41c1-9542-6c4817abd06d000002a00869acb0\",\"properties\":{\"arrayAccessMode\":1,\"colorByArrayName\":null,\"colorMode\":0,\"interpolateScalarsBeforeMapping\":0,\"renderTime\":0.0,\"resolveCoincidentTopology\":0,\"scalarMode\":0,\"scalarRange\":[0.0,1.0],\"scalarVisibility\":1,\"useLookupTableScalarRange\":0},\"type\":\"vtkDataSetMapper\"},{\"id\":\"741fb3dd-e9a9-41c1-9542-6c4817abd06d0000029fea9006c0\",\"parent\":\"741fb3dd-e9a9-41c1-9542-6c4817abd06d000002a00869acb0\",\"properties\":{\"ambient\":0.0,\"ambientColor\":[0.0,0.0,0.0],\"backfaceCulling\":0,\"color\":[0.0,0.0,0.0],\"diffuse\":1.0,\"diffuseColor\":[0.0,0.0,0.0],\"edgeColor\":[0.0,0.0,0.0],\"edgeVisibility\":0,\"frontfaceCulling\":1,\"interpolation\":1,\"lighting\":1,\"lineWidth\":1.0,\"opacity\":1.0,\"pointSize\":1.0,\"representation\":2,\"specular\":0.0,\"specularColor\":[0.0,0.0,0.0],\"specularPower\":1.0},\"type\":\"vtkOpenGLProperty\"}],\"id\":\"741fb3dd-e9a9-41c1-9542-6c4817abd06d000002a00869acb0\",\"parent\":\"741fb3dd-e9a9-41c1-9542-6c4817abd06d000002a0071d9030\",\"properties\":{\"dragable\":1,\"forceOpaque\":false,\"forceTranslucent\":false,\"orientation\":[0.0,-0.0,0.0],\"origin\":[0.0,0.0,0.0],\"pickable\":0,\"position\":[0.0,0.0,0.0],\"scale\":[1.0,1.0,1.0],\"useBounds\":true,\"visibility\":1},\"type\":\"vtkOpenGLActor\"}],\"id\":\"741fb3dd-e9a9-41c1-9542-6c4817abd06d000002a0071d9030\",\"parent\":\"741fb3dd-e9a9-41c1-9542-6c4817abd06d0000029f68813110\",\"properties\":{\"background\":[0.9333333333333333,0.9333333333333333,0.9333333333333333],\"background2\":[0.2,0.2,0.2],\"clippingRangeExpansion\":0.5,\"interactive\":1,\"layer\":0,\"lightFollowCamera\":1,\"maximumNumberOfPeels\":4,\"nearClippingPlaneTolerance\":0.001,\"occlusionRatio\":0.0,\"preserveColorBuffer\":0,\"preserveDepthBuffer\":0,\"twoSidedLighting\":1,\"useDepthPeeling\":0,\"useShadows\":0,\"viewport\":[0.0,0.0,1.0,1.0]},\"type\":\"vtkOpenGLRenderer\"},{\"calls\":[[\"setActiveCamera\",[\"instance:${0000029ff5602aa0}\"]]],\"dependencies\":[{\"id\":\"0000029ff5602aa0\",\"parent\":\"741fb3dd-e9a9-41c1-9542-6c4817abd06d000002a0071d9c50\",\"properties\":{\"clippingRange\":[0.01,1000.01],\"focalPoint\":[0.0,0.0,0.0],\"position\":[0.0,0.0,1.0],\"viewUp\":[0.0,1.0,0.0]},\"type\":\"vtkOpenGLCamera\"}],\"id\":\"741fb3dd-e9a9-41c1-9542-6c4817abd06d000002a0071d9c50\",\"parent\":\"741fb3dd-e9a9-41c1-9542-6c4817abd06d0000029f68813110\",\"properties\":{\"background\":[0.9333333333333333,0.9333333333333333,0.9333333333333333],\"background2\":[0.2,0.2,0.2],\"clippingRangeExpansion\":0.5,\"interactive\":0,\"layer\":1,\"lightFollowCamera\":1,\"maximumNumberOfPeels\":4,\"nearClippingPlaneTolerance\":0.0,\"occlusionRatio\":0.0,\"preserveColorBuffer\":1,\"preserveDepthBuffer\":0,\"twoSidedLighting\":1,\"useDepthPeeling\":0,\"useShadows\":0,\"viewport\":[0.0,0.0,1.0,1.0]},\"type\":\"vtkOpenGLRenderer\"},{\"calls\":[[\"setActiveCamera\",[\"instance:${0000029ff55ffea0}\"]]],\"dependencies\":[{\"id\":\"0000029ff55ffea0\",\"parent\":\"741fb3dd-e9a9-41c1-9542-6c4817abd06d000002a0071dae80\",\"properties\":{\"clippingRange\":[3.1784280185413736,11.13129965931104],\"focalPoint\":[0.0,0.0,0.0],\"position\":[3.8637033051562732,3.8637033051562746,3.8637033051562746],\"viewUp\":[0.0,0.0,1.0]},\"type\":\"vtkOpenGLCamera\"}],\"id\":\"741fb3dd-e9a9-41c1-9542-6c4817abd06d000002a0071dae80\",\"parent\":\"741fb3dd-e9a9-41c1-9542-6c4817abd06d0000029f68813110\",\"properties\":{\"background\":[0.0,0.0,0.0],\"background2\":[0.2,0.2,0.2],\"clippingRangeExpansion\":0.5,\"interactive\":0,\"layer\":1,\"lightFollowCamera\":1,\"maximumNumberOfPeels\":4,\"nearClippingPlaneTolerance\":0.001,\"occlusionRatio\":0.0,\"preserveColorBuffer\":1,\"preserveDepthBuffer\":0,\"twoSidedLighting\":1,\"useDepthPeeling\":0,\"useShadows\":0,\"viewport\":[0.0,0.0,0.2,0.2]},\"type\":\"vtkOpenGLRenderer\"}],\"id\":\"741fb3dd-e9a9-41c1-9542-6c4817abd06d0000029f68813110\",\"mtime\":3164909,\"parent\":\"741fb3dd-e9a9-41c1-9542-6c4817abd06d0x0\",\"properties\":{\"numberOfLayers\":2},\"type\":\"vtkWin32OpenGLRenderWindow\"},\"sizing_mode\":\"stretch_width\"},\"id\":\"1121\",\"type\":\"panel.models.vtk.VTKSynchronizedPlot\"},{\"attributes\":{\"client_comm_id\":\"bdeae49208c14dc884f80a216b80b958\",\"comm_id\":\"68dead03e44847c5ad157371af72e686\",\"plot_id\":\"1121\"},\"id\":\"1122\",\"type\":\"panel.models.comm_manager.CommManager\"},{\"attributes\":{\"digits\":3,\"grid_opacity\":0.5,\"origin\":[-0.1,-0.0254,-0.0508],\"xticker\":{\"ticks\":[-0.1,0.2048,0.5096,0.8144000000000001,1.1192]},\"yticker\":{\"ticks\":[-0.0254,-0.0127,0.0,0.012699999999999996,0.0254]},\"zticker\":{\"ticks\":[-0.0508,-0.038099999999999995,-0.0254,-0.012700000000000003,0.0]}},\"id\":\"1120\",\"type\":\"panel.models.vtk.VTKAxes\"}],\"root_ids\":[\"1121\",\"1122\"]},\"title\":\"Bokeh Application\",\"version\":\"2.4.3\"}};\n",
       "    var render_items = [{\"docid\":\"f2191278-ee88-4e93-bbe0-2f8e961bc124\",\"root_ids\":[\"1121\"],\"roots\":{\"1121\":\"5714fea5-dc05-488f-a6dd-d8b2ac3f790e\"}}];\n",
       "    root.Bokeh.embed.embed_items_notebook(docs_json, render_items);\n",
       "  }\n",
       "  if (root.Bokeh !== undefined && root.Bokeh.Panel !== undefined && ( root['vtk'] !== undefined)) {\n",
       "    embed_document(root);\n",
       "  } else {\n",
       "    var attempts = 0;\n",
       "    var timer = setInterval(function(root) {\n",
       "      if (root.Bokeh !== undefined && root.Bokeh.Panel !== undefined && (root['vtk'] !== undefined)) {\n",
       "        clearInterval(timer);\n",
       "        embed_document(root);\n",
       "      } else if (document.readyState == \"complete\") {\n",
       "        attempts++;\n",
       "        if (attempts > 200) {\n",
       "          clearInterval(timer);\n",
       "          console.log(\"Bokeh: ERROR: Unable to run BokehJS code because BokehJS library is missing\");\n",
       "        }\n",
       "      }\n",
       "    }, 25, root)\n",
       "  }\n",
       "})(window);</script>"
      ]
     },
     "metadata": {},
     "output_type": "display_data"
    },
    {
     "data": {
      "text/plain": [
       "(<pyvista.plotting.plotting.Plotter at 0x29f5e048c70>, None)"
      ]
     },
     "execution_count": 92,
     "metadata": {},
     "output_type": "execute_result"
    }
   ],
   "source": [
    "# We create a cylinder and shift it so that the \n",
    "from math import pi\n",
    "radius = diameter/2\n",
    "cyl = mt.createCylinder(radius=radius, height=length, pos=[0, -radius, length/2], nSegments=16)\n",
    "print(cyl.boundingBox())\n",
    "# cyl.rotate([0, pi/2, 0])\n",
    "cyl.swapCoordinates(1, 2)\n",
    "cyl.swapCoordinates(0, 1)\n",
    "print(cyl.boundingBox())\n",
    "cyl.translate([-xLeft, 0, 0])  # so that first electrode is at 0,0,0\n",
    "print(cyl.boundingBox())\n",
    "pg.show(cyl)"
   ]
  },
  {
   "cell_type": "code",
   "execution_count": 93,
   "metadata": {},
   "outputs": [
    {
     "name": "stdout",
     "output_type": "stream",
     "text": [
      "RVector3: (0.0, 0.0, -0.01)\n",
      "RVector3: (0.15, 0.0, -0.01)\n",
      "RVector3: (0.3, 0.0, -0.01)\n",
      "RVector3: (0.44999999999999996, 0.0, -0.01)\n",
      "RVector3: (0.6, 0.0, -0.01)\n",
      "RVector3: (0.75, 0.0, -0.01)\n",
      "RVector3: (0.8999999999999999, 0.0, -0.01)\n",
      "RVector3: (1.05, 0.0, -0.01)\n"
     ]
    }
   ],
   "source": [
    "for el in shm.sensors():\n",
    "    print(el)\n",
    "    cyl.createNode(el, marker=-99)"
   ]
  },
  {
   "cell_type": "code",
   "execution_count": 94,
   "metadata": {},
   "outputs": [
    {
     "name": "stdout",
     "output_type": "stream",
     "text": [
      "Mesh: Nodes: 40 Cells: 0 Boundaries: 18\n",
      "tetgen -pzACaq1.2 C:\\Users\\Guenther.T\\AppData\\Local\\Temp\\tmp2hf1uij0.poly\n",
      "Mesh: Nodes: 1857 Cells: 6910 Boundaries: 15173\n"
     ]
    }
   ],
   "source": [
    "print(cyl)\n",
    "cyl.exportVTK(\"cylinder.vtk\")\n",
    "mesh = mt.createMesh(cyl, verbose=True)\n",
    "print(mesh)\n",
    "mesh.exportVTK(\"mesh.vtk\")\n",
    "#pg.show(mesh)"
   ]
  },
  {
   "cell_type": "code",
   "execution_count": 97,
   "metadata": {},
   "outputs": [
    {
     "name": "stdout",
     "output_type": "stream",
     "text": [
      "Mesh: Nodes: 11976 Cells: 6910 Boundaries: 15173\n"
     ]
    }
   ],
   "source": [
    "meshP = mesh.createP2()\n",
    "print(meshP)"
   ]
  },
  {
   "cell_type": "code",
   "execution_count": 98,
   "metadata": {},
   "outputs": [
    {
     "name": "stderr",
     "output_type": "stream",
     "text": [
      "04/10/22 - 12:36:06 - pyGIMLi - \u001b[0;32;49mINFO\u001b[0m - Save RVector binary\n",
      "04/10/22 - 12:36:06 - pyGIMLi - \u001b[0;32;49mINFO\u001b[0m - Cache stored: C:\\Guenther.T\\Anwendungsdaten\\pygimli\\Cache\\2841538644319391280\n"
     ]
    },
    {
     "name": "stdout",
     "output_type": "stream",
     "text": [
      "5 [0.013167537567750296, 0.013167537517369836, 0.013167537544046223, 0.013167537534940365, 0.01316753753298258]\n"
     ]
    }
   ],
   "source": [
    "# data = ert.simulate(mesh=meshP, scheme=shm)\n",
    "k = ert.createGeometricFactors(shm, numerical=True, mesh=mesh, p2=True)\n",
    "print(k)"
   ]
  },
  {
   "cell_type": "code",
   "execution_count": 100,
   "metadata": {},
   "outputs": [
    {
     "name": "stdout",
     "output_type": "stream",
     "text": [
      "0.013512199442599938\n",
      "5 [-2.550745911602121, -2.55074628445378, -2.5507460870293244, -2.5507461544192296, -2.5507461689082334]\n"
     ]
    }
   ],
   "source": [
    "kAna = radius**2*pi/de\n",
    "print(kAna)\n",
    "print(k/kAna*100-100)"
   ]
  }
 ],
 "metadata": {
  "hide_input": false,
  "kernelspec": {
   "display_name": "Python 3 (ipykernel)",
   "language": "python",
   "name": "python3"
  },
  "language_info": {
   "codemirror_mode": {
    "name": "ipython",
    "version": 3
   },
   "file_extension": ".py",
   "mimetype": "text/x-python",
   "name": "python",
   "nbconvert_exporter": "python",
   "pygments_lexer": "ipython3",
   "version": "3.8.13"
  },
  "toc": {
   "base_numbering": 1,
   "nav_menu": {},
   "number_sections": true,
   "sideBar": true,
   "skip_h1_title": false,
   "title_cell": "Table of Contents",
   "title_sidebar": "Contents",
   "toc_cell": false,
   "toc_position": {},
   "toc_section_display": true,
   "toc_window_display": false
  },
  "varInspector": {
   "cols": {
    "lenName": 16,
    "lenType": 16,
    "lenVar": 40
   },
   "kernels_config": {
    "python": {
     "delete_cmd_postfix": "",
     "delete_cmd_prefix": "del ",
     "library": "var_list.py",
     "varRefreshCmd": "print(var_dic_list())"
    },
    "r": {
     "delete_cmd_postfix": ") ",
     "delete_cmd_prefix": "rm(",
     "library": "var_list.r",
     "varRefreshCmd": "cat(var_dic_list()) "
    }
   },
   "types_to_exclude": [
    "module",
    "function",
    "builtin_function_or_method",
    "instance",
    "_Feature"
   ],
   "window_display": false
  }
 },
 "nbformat": 4,
 "nbformat_minor": 4
}
