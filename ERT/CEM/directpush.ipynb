{
 "cells": [
  {
   "cell_type": "code",
   "execution_count": 1,
   "metadata": {},
   "outputs": [],
   "source": [
    "import numpy as np\n",
    "import pygimli as pg\n",
    "import pygimli.meshtools as mt\n",
    "from pygimli.physics import ert"
   ]
  },
  {
   "cell_type": "code",
   "execution_count": 96,
   "metadata": {},
   "outputs": [
    {
     "name": "stderr",
     "output_type": "stream",
     "text": [
      "25/10/23 - 15:35:00 - pyGIMLi - \u001b[0;33;49mWARNING\u001b[0m - Given data fits neither cell count nor node count:\n",
      "25/10/23 - 15:35:00 - pyGIMLi - \u001b[0;33;49mWARNING\u001b[0m - 5741 vs. 0 vs. 361\n"
     ]
    },
    {
     "name": "stdout",
     "output_type": "stream",
     "text": [
      "[-10003 -10002 -10001 -10000     -2     -1      0]\n"
     ]
    },
    {
     "data": {
      "application/vnd.jupyter.widget-view+json": {
       "model_id": "111d23ca016c408b8d6648359e6f4152",
       "version_major": 2,
       "version_minor": 0
      },
      "text/plain": [
       "Widget(value=\"<iframe src='http://localhost:59121/index.html?ui=P_0x217678df0d0_41&reconnect=auto' style='widt…"
      ]
     },
     "metadata": {},
     "output_type": "display_data"
    },
    {
     "data": {
      "text/plain": [
       "(<pyvista.plotting.plotting.Plotter at 0x217678df0d0>, None)"
      ]
     },
     "execution_count": 96,
     "metadata": {},
     "output_type": "execute_result"
    }
   ],
   "source": [
    "eldist = 0.023\n",
    "eldia = 0.0075\n",
    "size2 = 0.1\n",
    "plc = mt.createWorld(start=[-size2, -size2, -size2], end=[size2+3*eldist, size2, 0])\n",
    "for i in range(4):\n",
    "    pad = mt.createFacet(mt.createCircle(pos=[i*eldist, 0, 0], radius=eldia/2, isHole=True)) \n",
    "    plc.copyBoundary(pad.boundary(0))\n",
    "    plc.createBoundary(plc.nodes([plc.createNode(n.pos()).id() for n in pad.nodes() ]), marker=-10000-i) # -10000-1)\n",
    "\n",
    "mesh = mt.createMesh(plc, quality=1.3)\n",
    "mesh.node(0).setMarker(-999)\n",
    "mesh.node(1).setMarker(-1000)\n",
    "print(np.unique(mesh.boundaryMarkers()))\n",
    "pg.show(mesh, showMesh=True, markers=True, backend=\"trame\")"
   ]
  },
  {
   "cell_type": "code",
   "execution_count": 97,
   "metadata": {},
   "outputs": [
    {
     "name": "stdout",
     "output_type": "stream",
     "text": [
      "Data: Sensors: 4 data: 1, nonzero entries: ['a', 'b', 'm', 'n', 'valid']\n"
     ]
    }
   ],
   "source": [
    "shm = pg.DataContainerERT()\n",
    "for i in range(4):\n",
    "    shm.createSensor([i*eldist, 0, 0])\n",
    "\n",
    "shm.addFourPointData(0, 3, 1, 2)\n",
    "print(shm)\n",
    "shm[\"k\"] = 1."
   ]
  },
  {
   "cell_type": "code",
   "execution_count": 98,
   "metadata": {},
   "outputs": [
    {
     "ename": "RuntimeError",
     "evalue": " The potential can not determined directly from ElectrodeShapeDomain use the matrix extension from complete electrode model instead",
     "output_type": "error",
     "traceback": [
      "\u001b[1;31m---------------------------------------------------------------------------\u001b[0m",
      "\u001b[1;31mRuntimeError\u001b[0m                              Traceback (most recent call last)",
      "Cell \u001b[1;32mIn[98], line 1\u001b[0m\n\u001b[1;32m----> 1\u001b[0m data \u001b[39m=\u001b[39m ert\u001b[39m.\u001b[39;49msimulate(mesh, shm, res\u001b[39m=\u001b[39;49m\u001b[39m1.0\u001b[39;49m, verbose\u001b[39m=\u001b[39;49m\u001b[39mTrue\u001b[39;49;00m)\u001b[39m#, calcOnly=True, returnFields=True)  # res=[[1, 1.0]]\u001b[39;00m\n",
      "File \u001b[1;32mc:\\Guenther.T\\src\\gimli\\gimli\\pygimli\\physics\\ert\\ert.py:195\u001b[0m, in \u001b[0;36msimulate\u001b[1;34m(mesh, scheme, res, **kwargs)\u001b[0m\n\u001b[0;32m    192\u001b[0m \u001b[39mif\u001b[39;00m fop\u001b[39m.\u001b[39mcomplex():\n\u001b[0;32m    193\u001b[0m     res \u001b[39m=\u001b[39m pg\u001b[39m.\u001b[39mutils\u001b[39m.\u001b[39msqueezeComplex(res)\n\u001b[1;32m--> 195\u001b[0m resp \u001b[39m=\u001b[39m fop\u001b[39m.\u001b[39;49mresponse(res)\n\u001b[0;32m    197\u001b[0m \u001b[39mif\u001b[39;00m fop\u001b[39m.\u001b[39mcomplex():\n\u001b[0;32m    198\u001b[0m     rhoa, phia \u001b[39m=\u001b[39m pg\u001b[39m.\u001b[39mutils\u001b[39m.\u001b[39mtoPolar(resp)\n",
      "File \u001b[1;32mc:\\Guenther.T\\src\\gimli\\gimli\\pygimli\\physics\\ert\\ertModelling.py:178\u001b[0m, in \u001b[0;36mERTModelling.response\u001b[1;34m(self, mod)\u001b[0m\n\u001b[0;32m    175\u001b[0m     pg\u001b[39m.\u001b[39mwarn(\u001b[39m'\u001b[39m\u001b[39mflip imaginary part for response calc\u001b[39m\u001b[39m'\u001b[39m)\n\u001b[0;32m    176\u001b[0m     mod \u001b[39m=\u001b[39m \u001b[39mself\u001b[39m\u001b[39m.\u001b[39mflipImagPart(mod)\n\u001b[1;32m--> 178\u001b[0m resp \u001b[39m=\u001b[39m \u001b[39mself\u001b[39;49m\u001b[39m.\u001b[39;49m_core\u001b[39m.\u001b[39;49mresponse(mod)\n\u001b[0;32m    180\u001b[0m \u001b[39mif\u001b[39;00m \u001b[39mself\u001b[39m\u001b[39m.\u001b[39mcomplex() \u001b[39mand\u001b[39;00m \u001b[39mself\u001b[39m\u001b[39m.\u001b[39m_conjImag:\n\u001b[0;32m    181\u001b[0m     pg\u001b[39m.\u001b[39mwarn(\u001b[39m'\u001b[39m\u001b[39mbackflip imaginary part after response calc\u001b[39m\u001b[39m'\u001b[39m)\n",
      "\u001b[1;31mRuntimeError\u001b[0m:  The potential can not determined directly from ElectrodeShapeDomain use the matrix extension from complete electrode model instead"
     ]
    }
   ],
   "source": [
    "data = ert.simulate(mesh, shm, res=1.0, verbose=True)#, calcOnly=True, returnFields=True)  # res=[[1, 1.0]]"
   ]
  },
  {
   "cell_type": "code",
   "execution_count": 99,
   "metadata": {},
   "outputs": [
    {
     "name": "stderr",
     "output_type": "stream",
     "text": [
      "25/10/23 - 15:38:04 - pyGIMLi - \u001b[0;32;49mINFO\u001b[0m - Found 1 regions.\n",
      "25/10/23 - 15:38:04 - pyGIMLi - \u001b[0;32;49mINFO\u001b[0m - Creating forward mesh from region infos.\n",
      "25/10/23 - 15:38:05 - pyGIMLi - \u001b[0;32;49mINFO\u001b[0m - Creating refined mesh (H2) to solve forward task.\n",
      "25/10/23 - 15:38:05 - pyGIMLi - \u001b[0;32;49mINFO\u001b[0m - Mesh for forward task: Mesh: Nodes: 4321 Cells: 21528 Boundaries: 22964\n"
     ]
    },
    {
     "ename": "RuntimeError",
     "evalue": " The potential can not determined directly from ElectrodeShapeDomain use the matrix extension from complete electrode model instead",
     "output_type": "error",
     "traceback": [
      "\u001b[1;31m---------------------------------------------------------------------------\u001b[0m",
      "\u001b[1;31mRuntimeError\u001b[0m                              Traceback (most recent call last)",
      "Cell \u001b[1;32mIn[99], line 5\u001b[0m\n\u001b[0;32m      3\u001b[0m fop\u001b[39m.\u001b[39msetMesh(mesh)\n\u001b[0;32m      4\u001b[0m model \u001b[39m=\u001b[39m np\u001b[39m.\u001b[39mones(mesh\u001b[39m.\u001b[39mcellCount())\n\u001b[1;32m----> 5\u001b[0m fop\u001b[39m.\u001b[39;49mcreateJacobian(model)\n\u001b[0;32m      6\u001b[0m sens \u001b[39m=\u001b[39m fop\u001b[39m.\u001b[39mjacobian()[\u001b[39m0\u001b[39m]\n",
      "File \u001b[1;32mc:\\Guenther.T\\src\\gimli\\gimli\\pygimli\\physics\\ert\\ertModelling.py:203\u001b[0m, in \u001b[0;36mERTModelling.createJacobian\u001b[1;34m(self, mod)\u001b[0m\n\u001b[0;32m    200\u001b[0m     \u001b[39m# pg._r(\"create Jacobian\", self, self._J)\u001b[39;00m\n\u001b[0;32m    201\u001b[0m     \u001b[39mreturn\u001b[39;00m \u001b[39mself\u001b[39m\u001b[39m.\u001b[39m_J\n\u001b[1;32m--> 203\u001b[0m \u001b[39mreturn\u001b[39;00m \u001b[39mself\u001b[39;49m\u001b[39m.\u001b[39;49m_core\u001b[39m.\u001b[39;49mcreateJacobian(mod)\n",
      "\u001b[1;31mRuntimeError\u001b[0m:  The potential can not determined directly from ElectrodeShapeDomain use the matrix extension from complete electrode model instead"
     ]
    }
   ],
   "source": [
    "fop = ert.ERTModelling()\n",
    "fop.setData(shm)\n",
    "fop.setMesh(mesh)\n",
    "model = np.ones(mesh.cellCount())\n",
    "fop.createJacobian(model)\n",
    "sens = fop.jacobian()[0]"
   ]
  }
 ],
 "metadata": {
  "kernelspec": {
   "display_name": "pg14",
   "language": "python",
   "name": "python3"
  },
  "language_info": {
   "codemirror_mode": {
    "name": "ipython",
    "version": 3
   },
   "file_extension": ".py",
   "mimetype": "text/x-python",
   "name": "python",
   "nbconvert_exporter": "python",
   "pygments_lexer": "ipython3",
   "version": "3.9.16"
  },
  "orig_nbformat": 4
 },
 "nbformat": 4,
 "nbformat_minor": 2
}
