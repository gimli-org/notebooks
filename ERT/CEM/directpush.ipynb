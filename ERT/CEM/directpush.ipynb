{
 "cells": [
  {
   "cell_type": "code",
   "execution_count": 129,
   "metadata": {},
   "outputs": [],
   "source": [
    "import numpy as np\n",
    "import pygimli as pg\n",
    "import pygimli.meshtools as mt\n",
    "from pygimli.physics import ert\n",
    "from pygimli.viewer.pv import drawStreamLines, drawSlice"
   ]
  },
  {
   "cell_type": "code",
   "execution_count": 130,
   "metadata": {},
   "outputs": [
    {
     "name": "stderr",
     "output_type": "stream",
     "text": [
      "01/12/23 - 11:08:33 - pyGIMLi - \u001b[0;32;49mINFO\u001b[0m - swap z<->y coordinates for visualization.\n"
     ]
    },
    {
     "data": {
      "text/plain": [
       "(<Axes: >, None)"
      ]
     },
     "execution_count": 130,
     "metadata": {},
     "output_type": "execute_result"
    },
    {
     "data": {
      "image/png": "[encoded data removed]",
      "text/plain": [
       "<Figure size 640x480 with 2 Axes>"
      ]
     },
     "metadata": {},
     "output_type": "display_data"
    }
   ],
   "source": [
    "rect = mt.createRectangle(start=[-0.1, -0.1], end=[0.2, 0])\n",
    "# rect.setDimension(3)\n",
    "rect.swapCoordinates(1, 2)\n",
    "pg.show(rect)"
   ]
  },
  {
   "cell_type": "code",
   "execution_count": 133,
   "metadata": {},
   "outputs": [
    {
     "data": {
      "application/vnd.jupyter.widget-view+json": {
       "model_id": "59c568778f1942be8587acb0baa50ae1",
       "version_major": 2,
       "version_minor": 0
      },
      "text/plain": [
       "Widget(value=\"<iframe src='http://localhost:60444/index.html?ui=P_0x20bfc188e20_14&reconnect=auto' style='widt…"
      ]
     },
     "metadata": {},
     "output_type": "display_data"
    },
    {
     "data": {
      "text/plain": [
       "(<pyvista.plotting.plotting.Plotter at 0x20bfc188e20>, None)"
      ]
     },
     "execution_count": 133,
     "metadata": {},
     "output_type": "execute_result"
    }
   ],
   "source": [
    "eldist = 0.023\n",
    "eldia = 0.0075\n",
    "size2 = 0.05\n",
    "plc = mt.createWorld(start=[-size2, -size2, -size2], end=[size2+3*eldist, size2, 0], \n",
    "                     area=5e-8)\n",
    "for i in range(4):\n",
    "    pad = mt.createFacet(mt.createCircle(pos=[i*eldist, 0, 0], radius=eldia/2, nSegments=16, isHole=True)) \n",
    "    plc.copyBoundary(pad.boundary(0))\n",
    "    plc.createBoundary(plc.nodes([plc.createNode(n.pos()).id() for n in pad.nodes() ]), marker=-10000-i) # -10000-1)\n",
    "\n",
    "rect = mt.createRectangle(start=[-0.04, -0.04], end=[0.11, -0.0002])\n",
    "rect.swapCoordinates(1, 2)\n",
    "plane = mt.createFacet(rect)\n",
    "# plc += plane\n",
    "plc.copyBoundary(plane.boundary(0))\n",
    "# plc.createBoundary(plc.nodes([plc.createNode(n.pos()).id() for n in pad.nodes() ]), marker=-10000-i) # -10000-1)\n",
    "\n",
    "for x in np.arange(0, 3*eldist, 0.0003):\n",
    "    plc.createNode([x, 0, -0.0003])\n",
    "\n",
    "plc.exportPLC(\"mymesh.poly\")\n",
    "pg.show(plc)"
   ]
  },
  {
   "cell_type": "code",
   "execution_count": 134,
   "metadata": {},
   "outputs": [
    {
     "data": {
      "application/vnd.jupyter.widget-view+json": {
       "model_id": "ebe133524a33441f871b0512cdfe2667",
       "version_major": 2,
       "version_minor": 0
      },
      "text/plain": [
       "Widget(value=\"<iframe src='http://localhost:60444/index.html?ui=P_0x20bec50e640_14&reconnect=auto' style='widt…"
      ]
     },
     "metadata": {},
     "output_type": "display_data"
    },
    {
     "data": {
      "text/plain": [
       "(<pyvista.plotting.plotting.Plotter at 0x20bec50e640>, None)"
      ]
     },
     "execution_count": 134,
     "metadata": {},
     "output_type": "execute_result"
    }
   ],
   "source": [
    "pg.show(plane)"
   ]
  },
  {
   "cell_type": "code",
   "execution_count": 135,
   "metadata": {},
   "outputs": [
    {
     "name": "stdout",
     "output_type": "stream",
     "text": [
      "Mesh: Nodes: 14917 Cells: 73008 Boundaries: 151623\n",
      "[-10003 -10002 -10001 -10000     -2     -1      0      1]\n"
     ]
    },
    {
     "name": "stderr",
     "output_type": "stream",
     "text": [
      "01/12/23 - 11:08:40 - pyGIMLi - \u001b[0;33;49mWARNING\u001b[0m - Given data fits neither cell count nor node count:\n",
      "01/12/23 - 11:08:40 - pyGIMLi - \u001b[0;33;49mWARNING\u001b[0m - 151623 vs. 0 vs. 8631\n"
     ]
    },
    {
     "data": {
      "application/vnd.jupyter.widget-view+json": {
       "model_id": "3f0b5e73ce2443d1ba0510be8d5107c2",
       "version_major": 2,
       "version_minor": 0
      },
      "text/plain": [
       "Widget(value=\"<iframe src='http://localhost:60444/index.html?ui=P_0x20bfc1885b0_14&reconnect=auto' style='widt…"
      ]
     },
     "metadata": {},
     "output_type": "display_data"
    },
    {
     "data": {
      "text/plain": [
       "(<pyvista.plotting.plotting.Plotter at 0x20bfc1885b0>, None)"
      ]
     },
     "execution_count": 135,
     "metadata": {},
     "output_type": "execute_result"
    }
   ],
   "source": [
    "\n",
    "mesh = mt.createMesh(plc, quality=1.2)\n",
    "mesh.exportVTK(\"mymesh.vtk\")\n",
    "print(mesh)\n",
    "mesh.node(0).setMarker(-999)\n",
    "mesh.node(1).setMarker(-1000)\n",
    "print(np.unique(mesh.boundaryMarkers()))\n",
    "pg.show(mesh, showMesh=True, markers=True, backend=\"trame\")"
   ]
  },
  {
   "cell_type": "code",
   "execution_count": 136,
   "metadata": {},
   "outputs": [
    {
     "name": "stdout",
     "output_type": "stream",
     "text": [
      "Data: Sensors: 4 data: 1, nonzero entries: ['a', 'b', 'm', 'n', 'valid']\n"
     ]
    }
   ],
   "source": [
    "shm = pg.DataContainerERT()\n",
    "for i in range(4):\n",
    "    shm.createSensor([i*eldist, 0, 0])\n",
    "\n",
    "shm.addFourPointData(0, 3, 1, 2)\n",
    "print(shm)\n",
    "shm[\"k\"] = 1.  # set to 1 so that it can be computed"
   ]
  },
  {
   "attachments": {},
   "cell_type": "markdown",
   "metadata": {},
   "source": [
    "The geometric factor is the ratio of the resistivity and the computed resistance."
   ]
  },
  {
   "cell_type": "code",
   "execution_count": 137,
   "metadata": {},
   "outputs": [],
   "source": [
    "shm[\"k\"] = 1. / ert.simulate(mesh, shm, res=1.0, sr=False, verbose=True, returnArray=True)"
   ]
  },
  {
   "cell_type": "code",
   "execution_count": 138,
   "metadata": {},
   "outputs": [
    {
     "name": "stderr",
     "output_type": "stream",
     "text": [
      "01/12/23 - 11:08:58 - pyGIMLi - \u001b[0;32;49mINFO\u001b[0m - Found 1 regions.\n",
      "01/12/23 - 11:09:10 - pyGIMLi - \u001b[0;32;49mINFO\u001b[0m - Creating forward mesh from region infos.\n",
      "01/12/23 - 11:09:21 - pyGIMLi - \u001b[0;32;49mINFO\u001b[0m - Creating refined mesh (H2) to solve forward task.\n",
      "01/12/23 - 11:09:34 - pyGIMLi - \u001b[0;32;49mINFO\u001b[0m - Mesh for forward task: Mesh: Nodes: 108448 Cells: 584064 Boundaries: 606492\n"
     ]
    },
    {
     "name": "stdout",
     "output_type": "stream",
     "text": [
      "1 [100.15037535738438]\n"
     ]
    }
   ],
   "source": [
    "fop = ert.ERTModelling(sr=False, verbose=True)\n",
    "fop.setData(shm)\n",
    "fop.setMesh(mesh)\n",
    "fop._core.setContactImpedances(np.ones(shm.sensorCount())*1e-12)\n",
    "fop._core.createRefinedForwardMesh(True, False)\n",
    "model = np.ones(mesh.cellCount()) * 100\n",
    "res = fop.response(model)\n",
    "print(res)  # should be 100\n",
    "fop.createJacobian(model)\n",
    "sens = fop.jacobian()[0]"
   ]
  },
  {
   "cell_type": "code",
   "execution_count": 139,
   "metadata": {},
   "outputs": [],
   "source": [
    "ssens = sens / mesh.cellSizes()\n",
    "mesh[\"sens\"] = ssens\n",
    "mesh[\"normsens\"] = pg.utils.logDropTol(ssens, 1e1)\n",
    "mesh[\"symsens\"] = pg.core.math.symlog(ssens, 10)\n",
    "mesh[\"asens\"] = np.abs(mesh[\"sens\"])\n",
    "sli = mt.extract2dSlice(mesh)"
   ]
  },
  {
   "cell_type": "code",
   "execution_count": 140,
   "metadata": {},
   "outputs": [],
   "source": [
    "mesh[\"nodesens\"] = pg.meshtools.cellDataToNodeData(mesh, mesh[\"sens\"])\n",
    "sli = mt.extract2dSlice(mesh)\n"
   ]
  },
  {
   "cell_type": "code",
   "execution_count": 141,
   "metadata": {},
   "outputs": [
    {
     "data": {
      "text/plain": [
       "16247011.423594914"
      ]
     },
     "execution_count": 141,
     "metadata": {},
     "output_type": "execute_result"
    }
   ],
   "source": [
    "max(sli[\"nodesens\"])"
   ]
  },
  {
   "cell_type": "code",
   "execution_count": 142,
   "metadata": {},
   "outputs": [
    {
     "name": "stderr",
     "output_type": "stream",
     "text": [
      "01/12/23 - 11:10:27 - asyncio - \u001b[0;31;49mERROR\u001b[0m - Task exception was never retrieved\n",
      "future: <Task finished name='Task-1165' coro=<RequestHandler.start() done, defined at c:\\Program Files\\software\\Anaconda\\envs\\pg14\\lib\\site-packages\\aiohttp\\web_protocol.py:462> exception=AssertionError()>\n",
      "Traceback (most recent call last):\n",
      "  File \"c:\\Program Files\\software\\Anaconda\\envs\\pg14\\lib\\asyncio\\tasks.py\", line 256, in __step\n",
      "    result = coro.send(None)\n",
      "  File \"c:\\Program Files\\software\\Anaconda\\envs\\pg14\\lib\\site-packages\\aiohttp\\web_protocol.py\", line 505, in start\n",
      "    request = self._request_factory(message, payload, self, writer, handler)\n",
      "  File \"c:\\Program Files\\software\\Anaconda\\envs\\pg14\\lib\\site-packages\\aiohttp\\web_app.py\", line 446, in _make_request\n",
      "    return _cls(\n",
      "  File \"c:\\Program Files\\software\\Anaconda\\envs\\pg14\\lib\\site-packages\\aiohttp\\web_request.py\", line 811, in __init__\n",
      "    super().__init__(*args, **kwargs)\n",
      "  File \"c:\\Program Files\\software\\Anaconda\\envs\\pg14\\lib\\site-packages\\aiohttp\\web_request.py\", line 188, in __init__\n",
      "    assert transport is not None\n",
      "AssertionError\n"
     ]
    },
    {
     "data": {
      "application/vnd.jupyter.widget-view+json": {
       "model_id": "a6c0c14b0d8b417a91b60c80498394ee",
       "version_major": 2,
       "version_minor": 0
      },
      "text/plain": [
       "Widget(value=\"<iframe src='http://localhost:60444/index.html?ui=P_0x20bfc1afbb0_15&reconnect=auto' style='widt…"
      ]
     },
     "metadata": {},
     "output_type": "display_data"
    },
    {
     "data": {
      "text/plain": [
       "(<pyvista.plotting.plotting.Plotter at 0x20bfc1afbb0>, None)"
      ]
     },
     "execution_count": 142,
     "metadata": {},
     "output_type": "execute_result"
    }
   ],
   "source": [
    "mm = 6\n",
    "pg.show(mesh, \"nodesens\", filter={\"slice\": dict(normal=\"y\")}, cMin=-6, cMax=6, cMap=\"bwr\")"
   ]
  },
  {
   "cell_type": "code",
   "execution_count": 151,
   "metadata": {},
   "outputs": [
    {
     "data": {
      "image/png": "[encoded data removed]",
      "text/plain": [
       "<Figure size 640x480 with 1 Axes>"
      ]
     },
     "metadata": {},
     "output_type": "display_data"
    }
   ],
   "source": [
    "sli[\"nodesens\"] = pg.meshtools.cellDataToNodeData(sli, sli[\"symsens\"])\n",
    "mm = 1e5\n",
    "# mm = 10\n",
    "# mm = 6\n",
    "# fig, ax = pg.plt.subplots()\n",
    "# pg.viewer.mpl.drawField(ax, sli, sli[\"nodesens\"], cMin=-mm, cMax=mm, cMap=\"bwr\", \n",
    "#                         nLevs=21, colorBar=True)\n",
    "ax, cb = pg.show(sli, \"sens\", cMin=-mm, cMax=mm, cMap=\"bwr\", contourLines=True,\n",
    "                 nLevs=21, colorBar=False)\n",
    "ax.set_xlim(-0.015, 3*eldist+0.015)\n",
    "ax.set_ylim(-0.04, 0.001)\n",
    "for i in range(4):\n",
    "    ax.plot([i*eldist-eldia/2, i*eldist+eldia/2], [0.0005, 0.0005], \"m-\", lw=5)\n",
    "\n",
    "ax.figure.savefig(\"dp-sens.pdf\")"
   ]
  },
  {
   "cell_type": "code",
   "execution_count": 144,
   "metadata": {},
   "outputs": [
    {
     "data": {
      "application/vnd.jupyter.widget-view+json": {
       "model_id": "8f0f4da4a2924a0495a26b0728a8f31c",
       "version_major": 2,
       "version_minor": 0
      },
      "text/plain": [
       "Widget(value=\"<iframe src='http://localhost:60444/index.html?ui=P_0x20c87f27c70_15&reconnect=auto' style='widt…"
      ]
     },
     "metadata": {},
     "output_type": "display_data"
    }
   ],
   "source": [
    "ax, _ = pg.show(mesh, \"sens\", alpha=0.3, hold=True, backend=\"trame\", cMap=\"bwr\", cMin=-1e4, cMax=1e4, \n",
    "                filter={\"threshold\": dict(scalars=\"asens\", value=1e4)})\n",
    "ax.show()"
   ]
  },
  {
   "cell_type": "code",
   "execution_count": 145,
   "metadata": {},
   "outputs": [
    {
     "ename": "NameError",
     "evalue": "name 'dsffsdf' is not defined",
     "output_type": "error",
     "traceback": [
      "\u001b[1;31m---------------------------------------------------------------------------\u001b[0m",
      "\u001b[1;31mNameError\u001b[0m                                 Traceback (most recent call last)",
      "Cell \u001b[1;32mIn[145], line 1\u001b[0m\n\u001b[1;32m----> 1\u001b[0m dsffsdf\n",
      "\u001b[1;31mNameError\u001b[0m: name 'dsffsdf' is not defined"
     ]
    }
   ],
   "source": [
    "dsffsdf"
   ]
  },
  {
   "cell_type": "code",
   "execution_count": null,
   "metadata": {},
   "outputs": [
    {
     "name": "stdout",
     "output_type": "stream",
     "text": [
      "(4, 12286)\n"
     ]
    }
   ],
   "source": [
    "u = ert.simulate(mesh, shm, res=1.0, sr=False, verbose=True, returnFields=True)\n",
    "print(u.shape)"
   ]
  },
  {
   "cell_type": "code",
   "execution_count": null,
   "metadata": {},
   "outputs": [
    {
     "name": "stdout",
     "output_type": "stream",
     "text": [
      "2.9021601789246265\n"
     ]
    }
   ],
   "source": [
    "uAB = u[0] - u[3]\n",
    "logU = pg.core.math.symlog(uAB, 0.1)\n",
    "print(max(logU))"
   ]
  },
  {
   "cell_type": "code",
   "execution_count": null,
   "metadata": {},
   "outputs": [],
   "source": [
    "j = -pg.solver.grad(mesh, uAB)  # actually times sigma=1S/m"
   ]
  },
  {
   "cell_type": "code",
   "execution_count": null,
   "metadata": {},
   "outputs": [],
   "source": []
  },
  {
   "cell_type": "code",
   "execution_count": null,
   "metadata": {},
   "outputs": [
    {
     "name": "stdout",
     "output_type": "stream",
     "text": [
      "UnstructuredGrid (0x27e57a24820)\n",
      "  N Cells:    58858\n",
      "  N Points:   12286\n",
      "  X Bounds:   -5.000e-02, 1.190e-01\n",
      "  Y Bounds:   -5.000e-02, 5.000e-02\n",
      "  Z Bounds:   -5.000e-02, 0.000e+00\n",
      "  N Arrays:   2\n",
      "\n"
     ]
    }
   ],
   "source": [
    "# mesh.clearData()\n",
    "# pvmesh = pg.viewer.pv.pgMesh2pvMesh(mesh, j)\n",
    "# print(pvmesh)"
   ]
  },
  {
   "cell_type": "code",
   "execution_count": null,
   "metadata": {},
   "outputs": [
    {
     "data": {
      "application/vnd.jupyter.widget-view+json": {
       "model_id": "15a7416a0faf43a79b9da73517cf3a1d",
       "version_major": 2,
       "version_minor": 0
      },
      "text/plain": [
       "Widget(value=\"<iframe src='http://localhost:59307/index.html?ui=P_0x2152275fe20_43&reconnect=auto' style='widt…"
      ]
     },
     "metadata": {},
     "output_type": "display_data"
    }
   ],
   "source": [
    "ax, _ = pg.show(mesh, \"sens\", alpha=0.3, hold=True, backend=\"trame\", cMap=\"bwr\", cMin=-1e4, cMax=1e4,\n",
    "                filter={\"threshold\": dict(scalars=\"asens\", value=1e4)})\n",
    "# drawStreamLines(ax, mesh, uAB, source_center=[0, 0, 0], source_radius=eldia/2, radius=0.0002, initial_step_length=0.01, min_step_length=0.0001)\n",
    "# drawStreamLines(ax, mesh, uAB, source_center=[3*eldist, 0, 0], source_radius=eldia/2, radius=0.0002, initial_step_length=0.002, min_step_length=0.0001)\n",
    "# drawSlice(ax, mesh, normal=[0,1,0], data=uAB, cmap=\"bwr\", cMin=-4, cMax=4, label=\"Potential\")\n",
    "ax.show()"
   ]
  },
  {
   "cell_type": "code",
   "execution_count": null,
   "metadata": {},
   "outputs": [],
   "source": [
    "# mesh.swapCoordinates(0, 2)\n",
    "# mesh.scale([-1, 1, 1])\n",
    "# ax, _ = pg.show(mesh, alpha=0.3, hold=True, backend=\"trame\")\n",
    "# drawStreamLines(ax, mesh, uAB, source_center=[0, 0, 0], source_radius=eldia/2, radius=0.0001)\n",
    "# drawSlice(ax, mesh, normal=[0,1,0], data=uAB, cmap=\"bwr\", cMin=-4, cMax=4, label=\"Potential\")\n",
    "# ax.show()"
   ]
  },
  {
   "cell_type": "code",
   "execution_count": null,
   "metadata": {},
   "outputs": [
    {
     "data": {
      "text/plain": [
       "0.32856696787048595"
      ]
     },
     "execution_count": 87,
     "metadata": {},
     "output_type": "execute_result"
    }
   ],
   "source": [
    "4.25**(-1/1.3)"
   ]
  }
 ],
 "metadata": {
  "kernelspec": {
   "display_name": "pg14",
   "language": "python",
   "name": "python3"
  },
  "language_info": {
   "codemirror_mode": {
    "name": "ipython",
    "version": 3
   },
   "file_extension": ".py",
   "mimetype": "text/x-python",
   "name": "python",
   "nbconvert_exporter": "python",
   "pygments_lexer": "ipython3",
   "version": "3.9.16"
  },
  "orig_nbformat": 4
 },
 "nbformat": 4,
 "nbformat_minor": 2
}
